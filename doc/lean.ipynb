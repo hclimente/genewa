{
 "cells": [
  {
   "cell_type": "code",
   "execution_count": 1,
   "metadata": {
    "ExecuteTime": {
     "end_time": "2019-02-19T13:16:37.761523Z",
     "start_time": "2019-02-19T13:16:36.213Z"
    }
   },
   "outputs": [
    {
     "name": "stderr",
     "output_type": "stream",
     "text": [
      "── Attaching packages ─────────────────────────────────────── tidyverse 1.2.1 ──\n",
      "✔ ggplot2 3.1.0     ✔ purrr   0.3.0\n",
      "✔ tibble  2.0.1     ✔ dplyr   0.7.8\n",
      "✔ tidyr   0.8.2     ✔ stringr 1.3.1\n",
      "✔ readr   1.3.1     ✔ forcats 0.3.0\n",
      "── Conflicts ────────────────────────────────────────── tidyverse_conflicts() ──\n",
      "✖ dplyr::filter()  masks stats::filter()\n",
      "✖ purrr::flatten() masks jsonlite::flatten()\n",
      "✖ dplyr::lag()     masks stats::lag()\n"
     ]
    }
   ],
   "source": [
    "library(tidyverse)"
   ]
  },
  {
   "cell_type": "code",
   "execution_count": 2,
   "metadata": {
    "ExecuteTime": {
     "end_time": "2019-02-19T13:16:37.824797Z",
     "start_time": "2019-02-19T13:16:36.216Z"
    }
   },
   "outputs": [],
   "source": [
    "scores <- read_tsv('scored_genes.lean.txt', col_types = 'cdddddddd')"
   ]
  },
  {
   "cell_type": "code",
   "execution_count": 3,
   "metadata": {
    "ExecuteTime": {
     "end_time": "2019-02-19T13:16:38.347679Z",
     "start_time": "2019-02-19T13:16:36.225Z"
    }
   },
   "outputs": [
    {
     "name": "stderr",
     "output_type": "stream",
     "text": [
      "Warning message:\n",
      "“Transformation introduced infinite values in continuous y-axis”Warning message:\n",
      "“Removed 9 rows containing missing values (geom_bar).”"
     ]
    },
    {
     "data": {
      "image/png": "[encoded data removed]",
      "text/plain": [
       "plot without title"
      ]
     },
     "metadata": {},
     "output_type": "display_data"
    }
   ],
   "source": [
    "options(repr.plot.width=5, repr.plot.height=4)\n",
    "ggplot(scores, aes(PLEAN)) +\n",
    "    geom_histogram(bins = 20) +\n",
    "    scale_y_log10()"
   ]
  },
  {
   "cell_type": "code",
   "execution_count": 4,
   "metadata": {
    "ExecuteTime": {
     "end_time": "2019-02-19T13:16:38.429581Z",
     "start_time": "2019-02-19T13:16:36.232Z"
    }
   },
   "outputs": [
    {
     "data": {
      "text/html": [
       "<table>\n",
       "<thead><tr><th scope=col>Gene</th><th scope=col>Ptilde</th><th scope=col>mean_bg_p</th><th scope=col>k</th><th scope=col>m</th><th scope=col>pk</th><th scope=col>pstar</th><th scope=col>z.score</th><th scope=col>PLEAN</th></tr></thead>\n",
       "<tbody>\n",
       "\t<tr><td>CDC40       </td><td>-6.071955   </td><td>-0.8325921  </td><td> 4          </td><td> 4          </td><td>3.033970e-02</td><td>0e+00       </td><td>-8.900798   </td><td>0.4164084   </td></tr>\n",
       "\t<tr><td>VAPB        </td><td>-6.465907   </td><td>-1.3621585  </td><td>18          </td><td>27          </td><td>2.077922e-01</td><td>0e+00       </td><td>-6.925071   </td><td>0.4164084   </td></tr>\n",
       "\t<tr><td>FGF10       </td><td>-5.096911   </td><td>-0.6432877  </td><td> 1          </td><td> 2          </td><td>3.999996e-06</td><td>1e-04       </td><td>-8.544244   </td><td>0.4164084   </td></tr>\n",
       "\t<tr><td>FGF5        </td><td>-5.096911   </td><td>-0.6432877  </td><td> 1          </td><td> 2          </td><td>3.999996e-06</td><td>1e-04       </td><td>-8.544244   </td><td>0.4164084   </td></tr>\n",
       "\t<tr><td>ARFGEF3     </td><td>-4.795880   </td><td>-0.4738429  </td><td> 1          </td><td> 1          </td><td>1.599998e-05</td><td>2e-04       </td><td>-9.369815   </td><td>0.4996900   </td></tr>\n",
       "\t<tr><td>FGF7        </td><td>-4.920821   </td><td>-0.7551805  </td><td> 1          </td><td> 3          </td><td>3.999996e-06</td><td>7e-04       </td><td>-7.371722   </td><td>0.5552111   </td></tr>\n",
       "\t<tr><td>CCDC85B     </td><td>-4.695655   </td><td>-1.1207994  </td><td> 4          </td><td>11          </td><td>1.607984e-02</td><td>4e-04       </td><td>-5.348456   </td><td>0.5552111   </td></tr>\n",
       "\t<tr><td>MAP2K7      </td><td>-4.713368   </td><td>-1.2024677  </td><td> 9          </td><td>15          </td><td>1.258741e-01</td><td>6e-04       </td><td>-5.104261   </td><td>0.5552111   </td></tr>\n",
       "\t<tr><td>PON2        </td><td>-3.754922   </td><td>-0.6432877  </td><td> 2          </td><td> 2          </td><td>1.325987e-02</td><td>5e-04       </td><td>-5.969647   </td><td>0.5552111   </td></tr>\n",
       "\t<tr><td>C19orf25    </td><td>-3.587437   </td><td>-0.6432877  </td><td> 2          </td><td> 2          </td><td>1.607984e-02</td><td>7e-04       </td><td>-5.648328   </td><td>0.5552111   </td></tr>\n",
       "</tbody>\n",
       "</table>\n"
      ],
      "text/latex": [
       "\\begin{tabular}{r|lllllllll}\n",
       " Gene & Ptilde & mean\\_bg\\_p & k & m & pk & pstar & z.score & PLEAN\\\\\n",
       "\\hline\n",
       "\t CDC40        & -6.071955    & -0.8325921   &  4           &  4           & 3.033970e-02 & 0e+00        & -8.900798    & 0.4164084   \\\\\n",
       "\t VAPB         & -6.465907    & -1.3621585   & 18           & 27           & 2.077922e-01 & 0e+00        & -6.925071    & 0.4164084   \\\\\n",
       "\t FGF10        & -5.096911    & -0.6432877   &  1           &  2           & 3.999996e-06 & 1e-04        & -8.544244    & 0.4164084   \\\\\n",
       "\t FGF5         & -5.096911    & -0.6432877   &  1           &  2           & 3.999996e-06 & 1e-04        & -8.544244    & 0.4164084   \\\\\n",
       "\t ARFGEF3      & -4.795880    & -0.4738429   &  1           &  1           & 1.599998e-05 & 2e-04        & -9.369815    & 0.4996900   \\\\\n",
       "\t FGF7         & -4.920821    & -0.7551805   &  1           &  3           & 3.999996e-06 & 7e-04        & -7.371722    & 0.5552111   \\\\\n",
       "\t CCDC85B      & -4.695655    & -1.1207994   &  4           & 11           & 1.607984e-02 & 4e-04        & -5.348456    & 0.5552111   \\\\\n",
       "\t MAP2K7       & -4.713368    & -1.2024677   &  9           & 15           & 1.258741e-01 & 6e-04        & -5.104261    & 0.5552111   \\\\\n",
       "\t PON2         & -3.754922    & -0.6432877   &  2           &  2           & 1.325987e-02 & 5e-04        & -5.969647    & 0.5552111   \\\\\n",
       "\t C19orf25     & -3.587437    & -0.6432877   &  2           &  2           & 1.607984e-02 & 7e-04        & -5.648328    & 0.5552111   \\\\\n",
       "\\end{tabular}\n"
      ],
      "text/markdown": [
       "\n",
       "| Gene | Ptilde | mean_bg_p | k | m | pk | pstar | z.score | PLEAN |\n",
       "|---|---|---|---|---|---|---|---|---|\n",
       "| CDC40        | -6.071955    | -0.8325921   |  4           |  4           | 3.033970e-02 | 0e+00        | -8.900798    | 0.4164084    |\n",
       "| VAPB         | -6.465907    | -1.3621585   | 18           | 27           | 2.077922e-01 | 0e+00        | -6.925071    | 0.4164084    |\n",
       "| FGF10        | -5.096911    | -0.6432877   |  1           |  2           | 3.999996e-06 | 1e-04        | -8.544244    | 0.4164084    |\n",
       "| FGF5         | -5.096911    | -0.6432877   |  1           |  2           | 3.999996e-06 | 1e-04        | -8.544244    | 0.4164084    |\n",
       "| ARFGEF3      | -4.795880    | -0.4738429   |  1           |  1           | 1.599998e-05 | 2e-04        | -9.369815    | 0.4996900    |\n",
       "| FGF7         | -4.920821    | -0.7551805   |  1           |  3           | 3.999996e-06 | 7e-04        | -7.371722    | 0.5552111    |\n",
       "| CCDC85B      | -4.695655    | -1.1207994   |  4           | 11           | 1.607984e-02 | 4e-04        | -5.348456    | 0.5552111    |\n",
       "| MAP2K7       | -4.713368    | -1.2024677   |  9           | 15           | 1.258741e-01 | 6e-04        | -5.104261    | 0.5552111    |\n",
       "| PON2         | -3.754922    | -0.6432877   |  2           |  2           | 1.325987e-02 | 5e-04        | -5.969647    | 0.5552111    |\n",
       "| C19orf25     | -3.587437    | -0.6432877   |  2           |  2           | 1.607984e-02 | 7e-04        | -5.648328    | 0.5552111    |\n",
       "\n"
      ],
      "text/plain": [
       "   Gene     Ptilde    mean_bg_p  k  m  pk           pstar z.score   PLEAN    \n",
       "1  CDC40    -6.071955 -0.8325921  4  4 3.033970e-02 0e+00 -8.900798 0.4164084\n",
       "2  VAPB     -6.465907 -1.3621585 18 27 2.077922e-01 0e+00 -6.925071 0.4164084\n",
       "3  FGF10    -5.096911 -0.6432877  1  2 3.999996e-06 1e-04 -8.544244 0.4164084\n",
       "4  FGF5     -5.096911 -0.6432877  1  2 3.999996e-06 1e-04 -8.544244 0.4164084\n",
       "5  ARFGEF3  -4.795880 -0.4738429  1  1 1.599998e-05 2e-04 -9.369815 0.4996900\n",
       "6  FGF7     -4.920821 -0.7551805  1  3 3.999996e-06 7e-04 -7.371722 0.5552111\n",
       "7  CCDC85B  -4.695655 -1.1207994  4 11 1.607984e-02 4e-04 -5.348456 0.5552111\n",
       "8  MAP2K7   -4.713368 -1.2024677  9 15 1.258741e-01 6e-04 -5.104261 0.5552111\n",
       "9  PON2     -3.754922 -0.6432877  2  2 1.325987e-02 5e-04 -5.969647 0.5552111\n",
       "10 C19orf25 -3.587437 -0.6432877  2  2 1.607984e-02 7e-04 -5.648328 0.5552111"
      ]
     },
     "metadata": {},
     "output_type": "display_data"
    }
   ],
   "source": [
    "arrange(scores, PLEAN) %>%\n",
    "    head(10)"
   ]
  }
 ],
 "metadata": {
  "kernelspec": {
   "display_name": "R",
   "language": "R",
   "name": "ir"
  },
  "language_info": {
   "codemirror_mode": "r",
   "file_extension": ".r",
   "mimetype": "text/x-r-source",
   "name": "R",
   "pygments_lexer": "r",
   "version": "3.5.1"
  }
 },
 "nbformat": 4,
 "nbformat_minor": 2
}
