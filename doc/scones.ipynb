{
 "cells": [
  {
   "cell_type": "code",
   "execution_count": 1,
   "metadata": {
    "ExecuteTime": {
     "end_time": "2019-08-04T08:42:49.764996Z",
     "start_time": "2019-08-04T08:42:12.312Z"
    },
    "scrolled": false
   },
   "outputs": [
    {
     "name": "stderr",
     "output_type": "stream",
     "text": [
      "\n",
      "Attaching package: ‘tidygraph’\n",
      "\n",
      "The following object is masked from ‘package:igraph’:\n",
      "\n",
      "    groups\n",
      "\n",
      "The following object is masked from ‘package:stats’:\n",
      "\n",
      "    filter\n",
      "\n",
      "── \u001b[1mAttaching packages\u001b[22m ─────────────────────────────────────── tidyverse 1.2.1 ──\n",
      "\u001b[32m✔\u001b[39m \u001b[34mtibble \u001b[39m 2.1.3     \u001b[32m✔\u001b[39m \u001b[34mpurrr  \u001b[39m 0.3.2\n",
      "\u001b[32m✔\u001b[39m \u001b[34mtidyr  \u001b[39m 0.8.3     \u001b[32m✔\u001b[39m \u001b[34mdplyr  \u001b[39m 0.8.3\n",
      "\u001b[32m✔\u001b[39m \u001b[34mreadr  \u001b[39m 1.3.1     \u001b[32m✔\u001b[39m \u001b[34mstringr\u001b[39m 1.4.0\n",
      "\u001b[32m✔\u001b[39m \u001b[34mtibble \u001b[39m 2.1.3     \u001b[32m✔\u001b[39m \u001b[34mforcats\u001b[39m 0.4.0\n",
      "── \u001b[1mConflicts\u001b[22m ────────────────────────────────────────── tidyverse_conflicts() ──\n",
      "\u001b[31m✖\u001b[39m \u001b[34mdplyr\u001b[39m::\u001b[32mas_data_frame()\u001b[39m masks \u001b[34mtibble\u001b[39m::as_data_frame(), \u001b[34migraph\u001b[39m::as_data_frame()\n",
      "\u001b[31m✖\u001b[39m \u001b[34mpurrr\u001b[39m::\u001b[32mcompose()\u001b[39m       masks \u001b[34migraph\u001b[39m::compose()\n",
      "\u001b[31m✖\u001b[39m \u001b[34mtidyr\u001b[39m::\u001b[32mcrossing()\u001b[39m      masks \u001b[34migraph\u001b[39m::crossing()\n",
      "\u001b[31m✖\u001b[39m \u001b[34mdplyr\u001b[39m::\u001b[32mfilter()\u001b[39m        masks \u001b[34mtidygraph\u001b[39m::filter(), \u001b[34mstats\u001b[39m::filter()\n",
      "\u001b[31m✖\u001b[39m \u001b[34mdplyr\u001b[39m::\u001b[32mgroups()\u001b[39m        masks \u001b[34mtidygraph\u001b[39m::groups(), \u001b[34migraph\u001b[39m::groups()\n",
      "\u001b[31m✖\u001b[39m \u001b[34mdplyr\u001b[39m::\u001b[32mlag()\u001b[39m           masks \u001b[34mstats\u001b[39m::lag()\n",
      "\u001b[31m✖\u001b[39m \u001b[34mpurrr\u001b[39m::\u001b[32msimplify()\u001b[39m      masks \u001b[34migraph\u001b[39m::simplify()\n",
      "\n",
      "********************************************************\n",
      "Note: As of version 1.0.0, cowplot does not change the\n",
      "  default ggplot2 theme anymore. To recover the previous\n",
      "  behavior, execute:\n",
      "  theme_set(theme_cowplot())\n",
      "********************************************************\n",
      "\n"
     ]
    }
   ],
   "source": [
    "suppressMessages(library(igraph))\n",
    "suppressMessages(library(ggnetwork))\n",
    "library(tidygraph)\n",
    "library(tidyverse)\n",
    "library(cowplot)\n",
    "library(martini)\n",
    "library(blur)\n",
    "\n",
    "theme_set(theme_cowplot())\n",
    "results <- '../results/'\n",
    "\n",
    "gene2snp <- read_tsv(paste0(results,'preprocessing/snp2hgnc.tsv'), col_types = \"cc\")\n",
    "\n",
    "method_summary <- function(graph) {\n",
    "    \n",
    "    tibble(`# nodes` = length(V(graph)),\n",
    "           `# edges` = length(E(graph)),\n",
    "           `Median betweenness` = mean(as.tibble(graph) %>% .$betweenness, na.rm = T) %>% format(digits = 2),\n",
    "           `Median gene P-value` = median(as.tibble(graph) %>% .$c, na.rm = T) %>% pchisq(df = 1, lower.tail = FALSE) %>% format(digits = 2))\n",
    "    \n",
    "}"
   ]
  },
  {
   "cell_type": "code",
   "execution_count": null,
   "metadata": {},
   "outputs": [],
   "source": [
    "# read results\n",
    "## gs\n",
    "load(paste0(results,'scones/gs_network.RData'))\n",
    "\n",
    "gs <- read_tsv(paste0(results,'scones/cones_gs.tsv'), col_types = \"ciiiccdli\")\n",
    "gs_net <- as_tbl_graph(net) %>%\n",
    "    mutate(betweenness = centrality_betweenness()) %>%\n",
    "    inner_join(gs, by = c('name' = 'snp'))\n",
    "rm(net)\n",
    "\n",
    "## gm\n",
    "load(paste0(results,'scones/gm_network.RData'))\n",
    "\n",
    "gm <- read_tsv(paste0(results,'scones/cones_gm.tsv'), col_types = \"ciiiccdli\")\n",
    "gm_net <- as_tbl_graph(net) %>%\n",
    "    mutate(betweenness = centrality_betweenness()) %>%\n",
    "    inner_join(gs, by = c('name' = 'snp'))\n",
    "rm(net)\n",
    "\n",
    "## gi\n",
    "load(paste0(results,'scones/gi_network.RData'))\n",
    "\n",
    "gi <- read_tsv(paste0(results,'scones/cones_gi.tsv'), col_types = \"ciiiccdli\")\n",
    "gi_net <- as_tbl_graph(net) %>%\n",
    "    mutate(betweenness = centrality_betweenness()) %>%\n",
    "    inner_join(gs, by = c('name' = 'snp'))\n",
    "rm(net)"
   ]
  },
  {
   "cell_type": "markdown",
   "metadata": {},
   "source": [
    "# GS network"
   ]
  },
  {
   "cell_type": "code",
   "execution_count": null,
   "metadata": {
    "ExecuteTime": {
     "end_time": "2019-08-04T08:42:50.080167Z",
     "start_time": "2019-08-04T08:42:12.317Z"
    }
   },
   "outputs": [],
   "source": [
    "sum(gs$selected)"
   ]
  },
  {
   "cell_type": "code",
   "execution_count": null,
   "metadata": {
    "ExecuteTime": {
     "end_time": "2019-08-04T08:42:50.413387Z",
     "start_time": "2019-08-04T08:42:12.322Z"
    }
   },
   "outputs": [],
   "source": [
    "options(repr.plot.width=4, repr.plot.height=4)\n",
    "module_size(gs)"
   ]
  },
  {
   "cell_type": "markdown",
   "metadata": {},
   "source": [
    "Most of the clusters have small sizes (1,2 SNPs). However, it seems that small clusters have a similar association scores as bigger clusters, so I am inclined to think that bigger clusters are not picked despite being having lower association scores, but because they happen to connect high-score SNPs."
   ]
  },
  {
   "cell_type": "code",
   "execution_count": null,
   "metadata": {
    "ExecuteTime": {
     "end_time": "2019-08-04T08:42:50.451861Z",
     "start_time": "2019-08-04T08:42:12.326Z"
    }
   },
   "outputs": [],
   "source": [
    "blur:::compute_mod_size(gs)"
   ]
  },
  {
   "cell_type": "markdown",
   "metadata": {},
   "source": [
    "It seems that the biggest clusters come from only 3 chromosomic regions in chromosomes 3, 5 and 8."
   ]
  },
  {
   "cell_type": "code",
   "execution_count": null,
   "metadata": {
    "ExecuteTime": {
     "end_time": "2019-08-04T08:44:21.332209Z",
     "start_time": "2019-08-04T08:42:12.330Z"
    }
   },
   "outputs": [],
   "source": [
    "options(repr.plot.width=10, repr.plot.height=4)\n",
    "k <- blur:::compute_mod_size(gs) %>% filter(chr == 8) %>% .$module %>% head(n = 20)\n",
    "plot_snp_module(gs, k)"
   ]
  },
  {
   "cell_type": "markdown",
   "metadata": {},
   "source": [
    "In chromosome 8 we find gene CASC8, which had appreared in previous analyses."
   ]
  },
  {
   "cell_type": "code",
   "execution_count": null,
   "metadata": {
    "ExecuteTime": {
     "end_time": "2019-08-04T08:44:25.724735Z",
     "start_time": "2019-08-04T08:42:12.333Z"
    }
   },
   "outputs": [],
   "source": [
    "options(repr.plot.width=10, repr.plot.height=4)\n",
    "k <- blur:::compute_mod_size(gs) %>% filter(chr == 5) %>% .$module %>% head(n = 20)\n",
    "plot_snp_module(gs, k)"
   ]
  },
  {
   "cell_type": "markdown",
   "metadata": {},
   "source": [
    "In this region we find two compelling genes: MRPS30, the S30 subunit of the mitochondrial ribosome and potentially involved in energetic metabolism; and, more interestingly, RP11-53O19.1, also known as Breast Cancer-Associated Transcript 54, a ncRNA."
   ]
  },
  {
   "cell_type": "code",
   "execution_count": null,
   "metadata": {
    "ExecuteTime": {
     "end_time": "2019-08-04T08:44:30.147987Z",
     "start_time": "2019-08-04T08:42:12.337Z"
    }
   },
   "outputs": [],
   "source": [
    "options(repr.plot.width=10, repr.plot.height=5)\n",
    "k <- blur:::compute_mod_size(gs) %>% filter(chr == 3) %>% .$module %>% head(n = 20)\n",
    "plot_snp_module(gs, k)"
   ]
  },
  {
   "cell_type": "markdown",
   "metadata": {},
   "source": [
    "Here we retrieve our old-friend NEK10, a protein kinase involved in cell-cycle controlwhich was already linked to BRCA susceptibility.\n",
    "\n",
    "## Genes affected"
   ]
  },
  {
   "cell_type": "code",
   "execution_count": null,
   "metadata": {
    "ExecuteTime": {
     "end_time": "2019-08-04T08:44:30.705406Z",
     "start_time": "2019-08-04T08:42:12.340Z"
    }
   },
   "outputs": [],
   "source": [
    "table_regions(gs, gi_net)"
   ]
  },
  {
   "cell_type": "markdown",
   "metadata": {},
   "source": [
    "When we don't focus on clusters, but try to see signal provided by any selected SNPs we give voice to these SNPs with an association strongly associated enough to be selected without a cluster. Like this, we recover our old friend FGFR2, a tumor suppressor gene that is amplified and overexpressed in breast cancer."
   ]
  },
  {
   "cell_type": "code",
   "execution_count": null,
   "metadata": {
    "ExecuteTime": {
     "end_time": "2019-08-04T08:44:35.783290Z",
     "start_time": "2019-08-04T08:42:12.343Z"
    }
   },
   "outputs": [],
   "source": [
    "options(repr.plot.width=10, repr.plot.height=5)\n",
    "# FGFR2 SNPs\n",
    "k <- gs %>% filter(selected & chr == 10 & pos > 123296158 & pos < 123357561) %>% .$module\n",
    "plot_snp_module(gs, k)"
   ]
  },
  {
   "cell_type": "markdown",
   "metadata": {},
   "source": [
    "TOX3, related with ER+ BRCA, and CASC16, really close in the genome also pop up in the analysis."
   ]
  },
  {
   "cell_type": "code",
   "execution_count": null,
   "metadata": {
    "ExecuteTime": {
     "end_time": "2019-08-04T08:44:38.406780Z",
     "start_time": "2019-08-04T08:42:12.346Z"
    }
   },
   "outputs": [],
   "source": [
    "options(repr.plot.width=10, repr.plot.height=4)\n",
    "# TOX3 SNPs\n",
    "k <- gs %>% filter(selected & chr == 16 & pos > 52525285 & pos < 52639236) %>% .$module\n",
    "plot_snp_module(gs, k)"
   ]
  },
  {
   "cell_type": "code",
   "execution_count": null,
   "metadata": {},
   "outputs": [],
   "source": [
    "gs_selected_net <- gs_net %>%\n",
    "    filter(selected)\n",
    "\n",
    "bind_rows(mutate(method_summary(gs_net), Method = 'GS network'),\n",
    "          mutate(method_summary(gs_selected_net), Method = 'SConES GS')) %>%\n",
    "    select(Method, everything())"
   ]
  },
  {
   "cell_type": "markdown",
   "metadata": {},
   "source": [
    "# GM network"
   ]
  },
  {
   "cell_type": "code",
   "execution_count": null,
   "metadata": {
    "ExecuteTime": {
     "end_time": "2019-08-04T08:44:38.652220Z",
     "start_time": "2019-08-04T08:42:12.351Z"
    }
   },
   "outputs": [],
   "source": [
    "sum(gm$selected)"
   ]
  },
  {
   "cell_type": "code",
   "execution_count": null,
   "metadata": {
    "ExecuteTime": {
     "end_time": "2019-08-04T08:44:38.884355Z",
     "start_time": "2019-08-04T08:42:12.355Z"
    }
   },
   "outputs": [],
   "source": [
    "options(repr.plot.width=4, repr.plot.height=4)\n",
    "module_size(gm)"
   ]
  },
  {
   "cell_type": "code",
   "execution_count": null,
   "metadata": {
    "ExecuteTime": {
     "end_time": "2019-08-04T08:44:38.911167Z",
     "start_time": "2019-08-04T08:42:12.359Z"
    }
   },
   "outputs": [],
   "source": [
    "blur:::compute_mod_size(gm)"
   ]
  },
  {
   "cell_type": "markdown",
   "metadata": {},
   "source": [
    "Only 2 chromosomic regions here, in chromosomes 3 and 5, around the regions we already described."
   ]
  },
  {
   "cell_type": "code",
   "execution_count": null,
   "metadata": {
    "ExecuteTime": {
     "end_time": "2019-08-04T08:44:43.966688Z",
     "start_time": "2019-08-04T08:42:12.362Z"
    }
   },
   "outputs": [],
   "source": [
    "options(repr.plot.width=10, repr.plot.height=5)\n",
    "k <- blur:::compute_mod_size(gm) %>% filter(chr == 3) %>% .$module %>% head(n = 20)\n",
    "plot_snp_module(gm, k)"
   ]
  },
  {
   "cell_type": "code",
   "execution_count": null,
   "metadata": {
    "ExecuteTime": {
     "end_time": "2019-08-04T08:44:50.421492Z",
     "start_time": "2019-08-04T08:42:12.364Z"
    }
   },
   "outputs": [],
   "source": [
    "options(repr.plot.width=10, repr.plot.height=4)\n",
    "k <- blur:::compute_mod_size(gm) %>% filter(chr == 5) %>% .$module %>% head(n = 20)\n",
    "plot_snp_module(gm, k)"
   ]
  },
  {
   "cell_type": "markdown",
   "metadata": {},
   "source": [
    "## Genes affected"
   ]
  },
  {
   "cell_type": "code",
   "execution_count": null,
   "metadata": {
    "ExecuteTime": {
     "end_time": "2019-08-04T08:44:50.872469Z",
     "start_time": "2019-08-04T08:42:12.368Z"
    }
   },
   "outputs": [],
   "source": [
    "table_regions(gm, gi_net)"
   ]
  },
  {
   "cell_type": "markdown",
   "metadata": {},
   "source": [
    "# GI network"
   ]
  },
  {
   "cell_type": "code",
   "execution_count": null,
   "metadata": {
    "ExecuteTime": {
     "end_time": "2019-08-04T08:44:51.490100Z",
     "start_time": "2019-08-04T08:42:12.372Z"
    }
   },
   "outputs": [],
   "source": [
    "sum(gi$selected)"
   ]
  },
  {
   "cell_type": "code",
   "execution_count": null,
   "metadata": {
    "ExecuteTime": {
     "end_time": "2019-08-04T08:44:51.733170Z",
     "start_time": "2019-08-04T08:42:12.374Z"
    }
   },
   "outputs": [],
   "source": [
    "options(repr.plot.width=4, repr.plot.height=4)\n",
    "module_size(gi)"
   ]
  },
  {
   "cell_type": "code",
   "execution_count": null,
   "metadata": {
    "ExecuteTime": {
     "end_time": "2019-08-04T08:44:51.762728Z",
     "start_time": "2019-08-04T08:42:12.377Z"
    }
   },
   "outputs": [],
   "source": [
    "head(blur:::compute_mod_size(gi))"
   ]
  },
  {
   "cell_type": "code",
   "execution_count": null,
   "metadata": {
    "ExecuteTime": {
     "end_time": "2019-08-04T08:45:03.965154Z",
     "start_time": "2019-08-04T08:42:12.379Z"
    }
   },
   "outputs": [],
   "source": [
    "options(repr.plot.width=5, repr.plot.height=5)\n",
    "plot_ideogram(gi)"
   ]
  },
  {
   "cell_type": "markdown",
   "metadata": {},
   "source": [
    "We observe how modules span through different chromosomes."
   ]
  },
  {
   "cell_type": "code",
   "execution_count": null,
   "metadata": {
    "ExecuteTime": {
     "end_time": "2019-08-04T08:45:20.516554Z",
     "start_time": "2019-08-04T08:42:12.385Z"
    }
   },
   "outputs": [],
   "source": [
    "options(repr.plot.width=10, repr.plot.height=10)\n",
    "\n",
    "filter(gi_net, selected) %>%\n",
    "    igraph::as.igraph() %>%\n",
    "    ggnetwork %>%\n",
    "    ggplot(aes(x = x, y = y, xend = xend, yend = yend)) +\n",
    "        geom_edges(color = \"grey50\") +\n",
    "        geom_nodes(aes(color = gene)) +\n",
    "        facet_wrap(~module) +\n",
    "        theme_facet()"
   ]
  },
  {
   "cell_type": "markdown",
   "metadata": {},
   "source": [
    "## Genes affected"
   ]
  },
  {
   "cell_type": "code",
   "execution_count": null,
   "metadata": {
    "ExecuteTime": {
     "end_time": "2019-08-04T08:45:21.032573Z",
     "start_time": "2019-08-04T08:42:12.389Z"
    }
   },
   "outputs": [],
   "source": [
    "table_regions(gi, net)"
   ]
  },
  {
   "cell_type": "markdown",
   "metadata": {},
   "source": [
    "One interesting gene that didn't pop up in previous experiments is DIRC3, associated to renal and thyroid carcinomas; the other is CCAT2, related to prostate cancer susceptibility"
   ]
  },
  {
   "cell_type": "code",
   "execution_count": null,
   "metadata": {
    "ExecuteTime": {
     "end_time": "2019-08-04T08:45:21.073674Z",
     "start_time": "2019-08-04T08:42:12.391Z"
    },
    "scrolled": false
   },
   "outputs": [],
   "source": [
    "options(repr.plot.width=10, repr.plot.height=5)\n",
    "DIRC3 <- filter(gi, selected & chr == 2 & pos > 218150948 & pos < 218606227)\n",
    "plot_snp_module(DIRC3, DIRC3$module)"
   ]
  },
  {
   "cell_type": "code",
   "execution_count": null,
   "metadata": {
    "ExecuteTime": {
     "end_time": "2019-08-04T08:45:21.118508Z",
     "start_time": "2019-08-04T08:42:12.394Z"
    }
   },
   "outputs": [],
   "source": [
    "options(repr.plot.width=10, repr.plot.height=5)\n",
    "TMEM106B <- filter(gi, selected & chr == 7 & pos > 12251488 & pos < 12275818)\n",
    "plot_snp_module(TMEM106B, TMEM106B$module)"
   ]
  },
  {
   "cell_type": "code",
   "execution_count": null,
   "metadata": {
    "ExecuteTime": {
     "end_time": "2019-08-04T08:45:21.158847Z",
     "start_time": "2019-08-04T08:42:12.395Z"
    },
    "scrolled": false
   },
   "outputs": [],
   "source": [
    "options(repr.plot.width=10, repr.plot.height=3)\n",
    "CCAT2 <- filter(gi, selected & chr == 8 & pos > 128413087 & pos < 128414371)\n",
    "plot_snp_module(CCAT2, CCAT2$module)"
   ]
  },
  {
   "cell_type": "markdown",
   "metadata": {
    "collapsed": true
   },
   "source": [
    "# Consistency\n",
    "\n",
    "How consistent are the selected SNPs in the different networks?"
   ]
  },
  {
   "cell_type": "code",
   "execution_count": null,
   "metadata": {
    "ExecuteTime": {
     "end_time": "2019-08-04T08:45:21.866307Z",
     "start_time": "2019-08-04T08:42:12.398Z"
    }
   },
   "outputs": [],
   "source": [
    "options(repr.plot.width=4, repr.plot.height=5)\n",
    "consistency(GS = gs, GM = gm, GI = gi)"
   ]
  },
  {
   "cell_type": "markdown",
   "metadata": {},
   "source": [
    "GI network selects twice as many SNPs as the GM and the GS networks. As we see, most of the SNPs selected in the GS are selected in GS, and most of the ones selected in GM (+ many more) are selected in GI. Interestingly, as we can see from the circos above, GI network provides a way of connecting the previously isolated chromosomic regions in 3, 5 and 8 (and some potentially interesting regions in chromosomes 10 and 16)."
   ]
  },
  {
   "cell_type": "code",
   "execution_count": null,
   "metadata": {
    "ExecuteTime": {
     "end_time": "2019-08-04T08:45:21.905950Z",
     "start_time": "2019-08-04T08:42:12.400Z"
    }
   },
   "outputs": [],
   "source": [
    "set_gs <- gs$snp[gs$selected]\n",
    "set_gm <- gm$snp[gm$selected]\n",
    "set_gi <- gi$snp[gi$selected]\n",
    "\n",
    "length(intersect(set_gs, set_gm))/length(union(set_gs, set_gm))\n",
    "length(intersect(set_gi, set_gs))/length(union(set_gi, set_gs))\n",
    "length(intersect(set_gi, set_gm))/length(union(set_gi, set_gm))"
   ]
  }
 ],
 "metadata": {
  "kernelspec": {
   "display_name": "R",
   "language": "R",
   "name": "ir"
  },
  "language_info": {
   "codemirror_mode": "r",
   "file_extension": ".r",
   "mimetype": "text/x-r-source",
   "name": "R",
   "pygments_lexer": "r",
   "version": "3.6.1"
  }
 },
 "nbformat": 4,
 "nbformat_minor": 2
}
