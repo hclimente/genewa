{
 "cells": [
  {
   "cell_type": "code",
   "execution_count": 1,
   "metadata": {
    "ExecuteTime": {
     "end_time": "2019-08-04T08:42:49.764996Z",
     "start_time": "2019-08-04T08:42:12.312Z"
    },
    "scrolled": false
   },
   "outputs": [
    {
     "name": "stderr",
     "output_type": "stream",
     "text": [
      "\n",
      "Attaching package: ‘tidygraph’\n",
      "\n",
      "The following object is masked from ‘package:igraph’:\n",
      "\n",
      "    groups\n",
      "\n",
      "The following object is masked from ‘package:stats’:\n",
      "\n",
      "    filter\n",
      "\n",
      "── \u001b[1mAttaching packages\u001b[22m ─────────────────────────────────────── tidyverse 1.2.1 ──\n",
      "\u001b[32m✔\u001b[39m \u001b[34mtibble \u001b[39m 2.1.3     \u001b[32m✔\u001b[39m \u001b[34mpurrr  \u001b[39m 0.3.2\n",
      "\u001b[32m✔\u001b[39m \u001b[34mtidyr  \u001b[39m 0.8.3     \u001b[32m✔\u001b[39m \u001b[34mdplyr  \u001b[39m 0.8.3\n",
      "\u001b[32m✔\u001b[39m \u001b[34mreadr  \u001b[39m 1.3.1     \u001b[32m✔\u001b[39m \u001b[34mstringr\u001b[39m 1.4.0\n",
      "\u001b[32m✔\u001b[39m \u001b[34mtibble \u001b[39m 2.1.3     \u001b[32m✔\u001b[39m \u001b[34mforcats\u001b[39m 0.4.0\n",
      "── \u001b[1mConflicts\u001b[22m ────────────────────────────────────────── tidyverse_conflicts() ──\n",
      "\u001b[31m✖\u001b[39m \u001b[34mdplyr\u001b[39m::\u001b[32mas_data_frame()\u001b[39m masks \u001b[34mtibble\u001b[39m::as_data_frame(), \u001b[34migraph\u001b[39m::as_data_frame()\n",
      "\u001b[31m✖\u001b[39m \u001b[34mpurrr\u001b[39m::\u001b[32mcompose()\u001b[39m       masks \u001b[34migraph\u001b[39m::compose()\n",
      "\u001b[31m✖\u001b[39m \u001b[34mtidyr\u001b[39m::\u001b[32mcrossing()\u001b[39m      masks \u001b[34migraph\u001b[39m::crossing()\n",
      "\u001b[31m✖\u001b[39m \u001b[34mdplyr\u001b[39m::\u001b[32mfilter()\u001b[39m        masks \u001b[34mtidygraph\u001b[39m::filter(), \u001b[34mstats\u001b[39m::filter()\n",
      "\u001b[31m✖\u001b[39m \u001b[34mdplyr\u001b[39m::\u001b[32mgroups()\u001b[39m        masks \u001b[34mtidygraph\u001b[39m::groups(), \u001b[34migraph\u001b[39m::groups()\n",
      "\u001b[31m✖\u001b[39m \u001b[34mdplyr\u001b[39m::\u001b[32mlag()\u001b[39m           masks \u001b[34mstats\u001b[39m::lag()\n",
      "\u001b[31m✖\u001b[39m \u001b[34mpurrr\u001b[39m::\u001b[32msimplify()\u001b[39m      masks \u001b[34migraph\u001b[39m::simplify()\n",
      "\n",
      "********************************************************\n",
      "Note: As of version 1.0.0, cowplot does not change the\n",
      "  default ggplot2 theme anymore. To recover the previous\n",
      "  behavior, execute:\n",
      "  theme_set(theme_cowplot())\n",
      "********************************************************\n",
      "\n",
      "Parsed with column specification:\n",
      "cols(\n",
      "  CHR = \u001b[32mcol_double()\u001b[39m,\n",
      "  SNP = \u001b[31mcol_character()\u001b[39m,\n",
      "  BP = \u001b[32mcol_double()\u001b[39m,\n",
      "  A1 = \u001b[31mcol_character()\u001b[39m,\n",
      "  F_A = \u001b[32mcol_double()\u001b[39m,\n",
      "  F_U = \u001b[32mcol_double()\u001b[39m,\n",
      "  A2 = \u001b[31mcol_character()\u001b[39m,\n",
      "  CHISQ = \u001b[32mcol_double()\u001b[39m,\n",
      "  P = \u001b[32mcol_double()\u001b[39m,\n",
      "  OR = \u001b[32mcol_double()\u001b[39m\n",
      ")\n"
     ]
    }
   ],
   "source": [
    "suppressMessages(library(igraph))\n",
    "suppressMessages(library(ggnetwork))\n",
    "library(tidygraph)\n",
    "library(tidyverse)\n",
    "library(cowplot)\n",
    "library(martini)\n",
    "library(blur)\n",
    "\n",
    "theme_set(theme_cowplot())\n",
    "results <- '../results/'\n",
    "\n",
    "gene2snp <- read_tsv(paste0(results,'preprocessing/snp2hgnc.tsv'), col_types = \"cc\")\n",
    "snp_assoc <- read_tsv(paste0(results,'conventional_gwas/univariate_models.no_covars.tsv')) %>%\n",
    "    select(SNP,P) %>%\n",
    "    rename(snp = SNP, p = P)\n",
    "\n",
    "method_summary <- function(graph) {\n",
    "    \n",
    "    tibble(`# nodes` = length(V(graph)),\n",
    "           `# edges` = length(E(graph)),\n",
    "           `# subnetworks` = as_tibble(graph) %>% .$module %>% unique %>% na.omit %>% length,\n",
    "           `Median betweenness` = mean(as_tibble(graph) %>% .$betweenness, na.rm = T) %>% formatC(format = \"e\", digits = 2),\n",
    "           `Median SNP P-value` = median(as_tibble(graph) %>% .$p, na.rm = T) %>% format(digits = 2))\n",
    "    \n",
    "}"
   ]
  },
  {
   "cell_type": "code",
   "execution_count": 2,
   "metadata": {},
   "outputs": [],
   "source": [
    "gs <- read_tsv(paste0(results,'scones/cones_gs.tsv'), col_types = \"ciiiccdli\")\n",
    "gm <- read_tsv(paste0(results,'scones/cones_gm.tsv'), col_types = \"ciiiccdli\")\n",
    "gi <- read_tsv(paste0(results,'scones/cones_gi.tsv'), col_types = \"ciiiccdli\")"
   ]
  },
  {
   "cell_type": "code",
   "execution_count": 3,
   "metadata": {},
   "outputs": [],
   "source": [
    "# # gs\n",
    "# load(paste0(results,'scones/gs_network.RData'))\n",
    "\n",
    "# gs_net <- as_tbl_graph(net) %>%\n",
    "#     mutate(betweenness = centrality_betweenness()) %>% # \n",
    "#     inner_join(snp_assoc, \n",
    "#                by = c('name' = 'snp')) %>%\n",
    "#     inner_join(select(gs, snp, selected, module), \n",
    "#                by = c('name' = 'snp'))\n",
    "    \n",
    "# save(gs_net, file = paste0(results,'scones/gs_network.betweenness.RData'))\n",
    "# rm(net)\n",
    "\n",
    "load(paste0(results,'scones/gs_network.betweenness.RData'))"
   ]
  },
  {
   "cell_type": "code",
   "execution_count": 4,
   "metadata": {},
   "outputs": [],
   "source": [
    "# # gm\n",
    "# load(paste0(results,'scones/gm_network.RData'))\n",
    "\n",
    "# gm_net <- as_tbl_graph(net) %>%\n",
    "#     mutate(betweenness = centrality_betweenness()) %>%\n",
    "#     inner_join(snp_assoc, \n",
    "#                by = c('name' = 'snp')) %>%\n",
    "#     inner_join(select(gm, snp, selected, module), \n",
    "#                by = c('name' = 'snp'))\n",
    "# save(gm_net, file = paste0(results,'scones/gm_network.betweenness.RData'))\n",
    "# rm(net)\n",
    "\n",
    "load(paste0(results,'scones/gm_network.betweenness.RData'))"
   ]
  },
  {
   "cell_type": "code",
   "execution_count": 5,
   "metadata": {},
   "outputs": [],
   "source": [
    "# # gi\n",
    "# load(paste0(results,'scones/gi_network.RData'))\n",
    "\n",
    "# gi_net <- as_tbl_graph(net) %>%\n",
    "#     mutate(betweenness = NA) %>% # centrality_betweenness()\n",
    "#     inner_join(snp_assoc, \n",
    "#                by = c('name' = 'snp')) %>%\n",
    "#     inner_join(select(gi, snp, selected, module), \n",
    "#                by = c('name' = 'snp'))\n",
    "# save(gi_net, file = paste0(results,'scones/gi_network.betweenness.RData'))\n",
    "# rm(net)\n",
    "\n",
    "load(paste0(results,'scones/gi_network.betweenness.RData'))"
   ]
  },
  {
   "cell_type": "code",
   "execution_count": 6,
   "metadata": {},
   "outputs": [
    {
     "data": {
      "text/html": [
       "<table>\n",
       "<caption>A tibble: 6 × 6</caption>\n",
       "<thead>\n",
       "\t<tr><th scope=col>Method</th><th scope=col># nodes</th><th scope=col># edges</th><th scope=col># subnetworks</th><th scope=col>Median betweenness</th><th scope=col>Median SNP P-value</th></tr>\n",
       "\t<tr><th scope=col>&lt;chr&gt;</th><th scope=col>&lt;int&gt;</th><th scope=col>&lt;int&gt;</th><th scope=col>&lt;int&gt;</th><th scope=col>&lt;chr&gt;</th><th scope=col>&lt;chr&gt;</th></tr>\n",
       "</thead>\n",
       "<tbody>\n",
       "\t<tr><td>GS       </td><td>197083</td><td>  197060</td><td>5</td><td>2.03e+07</td><td>0.49 </td></tr>\n",
       "\t<tr><td>SConES GS</td><td>  1590</td><td>    1585</td><td>5</td><td>2.52e+07</td><td>0.023</td></tr>\n",
       "\t<tr><td>GM       </td><td>197083</td><td> 6442446</td><td>5</td><td>3.99e+06</td><td>0.49 </td></tr>\n",
       "\t<tr><td>SConES GM</td><td>  1692</td><td>  177611</td><td>5</td><td>4.40e+06</td><td>0.055</td></tr>\n",
       "\t<tr><td>GI       </td><td>197083</td><td>28733720</td><td>5</td><td>1.46e+06</td><td>0.49 </td></tr>\n",
       "\t<tr><td>SConES GI</td><td>   408</td><td>     539</td><td>5</td><td>9.33e+06</td><td>0.076</td></tr>\n",
       "</tbody>\n",
       "</table>\n"
      ],
      "text/latex": [
       "A tibble: 6 × 6\n",
       "\\begin{tabular}{r|llllll}\n",
       " Method & \\# nodes & \\# edges & \\# subnetworks & Median betweenness & Median SNP P-value\\\\\n",
       " <chr> & <int> & <int> & <int> & <chr> & <chr>\\\\\n",
       "\\hline\n",
       "\t GS        & 197083 &   197060 & 5 & 2.03e+07 & 0.49 \\\\\n",
       "\t SConES GS &   1590 &     1585 & 5 & 2.52e+07 & 0.023\\\\\n",
       "\t GM        & 197083 &  6442446 & 5 & 3.99e+06 & 0.49 \\\\\n",
       "\t SConES GM &   1692 &   177611 & 5 & 4.40e+06 & 0.055\\\\\n",
       "\t GI        & 197083 & 28733720 & 5 & 1.46e+06 & 0.49 \\\\\n",
       "\t SConES GI &    408 &      539 & 5 & 9.33e+06 & 0.076\\\\\n",
       "\\end{tabular}\n"
      ],
      "text/markdown": [
       "\n",
       "A tibble: 6 × 6\n",
       "\n",
       "| Method &lt;chr&gt; | # nodes &lt;int&gt; | # edges &lt;int&gt; | # subnetworks &lt;int&gt; | Median betweenness &lt;chr&gt; | Median SNP P-value &lt;chr&gt; |\n",
       "|---|---|---|---|---|---|\n",
       "| GS        | 197083 |   197060 | 5 | 2.03e+07 | 0.49  |\n",
       "| SConES GS |   1590 |     1585 | 5 | 2.52e+07 | 0.023 |\n",
       "| GM        | 197083 |  6442446 | 5 | 3.99e+06 | 0.49  |\n",
       "| SConES GM |   1692 |   177611 | 5 | 4.40e+06 | 0.055 |\n",
       "| GI        | 197083 | 28733720 | 5 | 1.46e+06 | 0.49  |\n",
       "| SConES GI |    408 |      539 | 5 | 9.33e+06 | 0.076 |\n",
       "\n"
      ],
      "text/plain": [
       "  Method    # nodes # edges  # subnetworks Median betweenness\n",
       "1 GS        197083    197060 5             2.03e+07          \n",
       "2 SConES GS   1590      1585 5             2.52e+07          \n",
       "3 GM        197083   6442446 5             3.99e+06          \n",
       "4 SConES GM   1692    177611 5             4.40e+06          \n",
       "5 GI        197083  28733720 5             1.46e+06          \n",
       "6 SConES GI    408       539 5             9.33e+06          \n",
       "  Median SNP P-value\n",
       "1 0.49              \n",
       "2 0.023             \n",
       "3 0.49              \n",
       "4 0.055             \n",
       "5 0.49              \n",
       "6 0.076             "
      ]
     },
     "metadata": {},
     "output_type": "display_data"
    }
   ],
   "source": [
    "gs_selected_net <- gs_net %>%\n",
    "    filter(selected)\n",
    "gm_selected_net <- gm_net %>%\n",
    "    filter(selected)\n",
    "gi_selected_net <- gi_net %>%\n",
    "    filter(selected)\n",
    "\n",
    "bind_rows(mutate(method_summary(gs_net), Method = 'GS'),\n",
    "          mutate(method_summary(gs_selected_net), Method = 'SConES GS'),\n",
    "          mutate(method_summary(gm_net), Method = 'GM'),\n",
    "          mutate(method_summary(gm_selected_net), Method = 'SConES GM'),\n",
    "          mutate(method_summary(gi_net), Method = 'GI'),\n",
    "          mutate(method_summary(gi_selected_net), Method = 'SConES GI')) %>%\n",
    "    select(Method, everything())"
   ]
  },
  {
   "cell_type": "code",
   "execution_count": 7,
   "metadata": {
    "ExecuteTime": {
     "end_time": "2019-08-04T08:45:21.905950Z",
     "start_time": "2019-08-04T08:42:12.400Z"
    }
   },
   "outputs": [
    {
     "data": {
      "text/html": [
       "0.568833652007648"
      ],
      "text/latex": [
       "0.568833652007648"
      ],
      "text/markdown": [
       "0.568833652007648"
      ],
      "text/plain": [
       "[1] 0.5688337"
      ]
     },
     "metadata": {},
     "output_type": "display_data"
    },
    {
     "data": {
      "text/html": [
       "0.124366910523354"
      ],
      "text/latex": [
       "0.124366910523354"
      ],
      "text/markdown": [
       "0.124366910523354"
      ],
      "text/plain": [
       "[1] 0.1243669"
      ]
     },
     "metadata": {},
     "output_type": "display_data"
    },
    {
     "data": {
      "text/html": [
       "0.117615753060138"
      ],
      "text/latex": [
       "0.117615753060138"
      ],
      "text/markdown": [
       "0.117615753060138"
      ],
      "text/plain": [
       "[1] 0.1176158"
      ]
     },
     "metadata": {},
     "output_type": "display_data"
    }
   ],
   "source": [
    "set_gs <- gs$snp[gs$selected]\n",
    "set_gm <- gm$snp[gm$selected]\n",
    "set_gi <- gi$snp[gi$selected]\n",
    "\n",
    "length(intersect(set_gs, set_gm))/length(union(set_gs, set_gm))\n",
    "length(intersect(set_gi, set_gs))/length(union(set_gi, set_gs))\n",
    "length(intersect(set_gi, set_gm))/length(union(set_gi, set_gm))"
   ]
  },
  {
   "cell_type": "markdown",
   "metadata": {},
   "source": [
    "# Genes mapped"
   ]
  },
  {
   "cell_type": "code",
   "execution_count": 8,
   "metadata": {},
   "outputs": [
    {
     "data": {
      "text/html": [
       "<table>\n",
       "<caption>A tibble: 6 × 6</caption>\n",
       "<thead>\n",
       "\t<tr><th scope=col>region</th><th scope=col>module</th><th scope=col>coords</th><th scope=col>bestSnp</th><th scope=col>genes</th><th scope=col>numSnps</th></tr>\n",
       "\t<tr><th scope=col>&lt;chr&gt;</th><th scope=col>&lt;int&gt;</th><th scope=col>&lt;chr&gt;</th><th scope=col>&lt;chr&gt;</th><th scope=col>&lt;chr&gt;</th><th scope=col>&lt;chr&gt;</th></tr>\n",
       "</thead>\n",
       "<tbody>\n",
       "\t<tr><td>3p24.1  </td><td>1</td><td>27038340-27602278  </td><td>rs6779140 </td><td>NEK10,MICOS10P3,RNU6-342P,SLC4A7,RPS20P15,RNU1-96P</td><td>690 (111)</td></tr>\n",
       "\t<tr><td>5p12    </td><td>2</td><td>44632008-45094503  </td><td>rs930395  </td><td>LINC02224,RN7SL383P,MRPS30-DT,MRPS30              </td><td>258 (111)</td></tr>\n",
       "\t<tr><td>8q24.21 </td><td>3</td><td>128309591-128442944</td><td>rs9693995 </td><td>CASC8,POU5F1B,PCAT1,CCAT2                         </td><td>316 (0)  </td></tr>\n",
       "\t<tr><td>10q26.13</td><td>4</td><td>123296158-123477629</td><td>rs2981579 </td><td>FGFR2,RPS15AP5,ATE1                               </td><td>210 (17) </td></tr>\n",
       "\t<tr><td>16q12.1 </td><td>5</td><td>52525285-52587375  </td><td>rs12918816</td><td>TOX3,CASC16                                       </td><td>58 (0)   </td></tr>\n",
       "\t<tr><td>16q12.2 </td><td>5</td><td>52600447-52651714  </td><td>rs12922061</td><td>CASC16,TOX3                                       </td><td>58 (0)   </td></tr>\n",
       "</tbody>\n",
       "</table>\n"
      ],
      "text/latex": [
       "A tibble: 6 × 6\n",
       "\\begin{tabular}{r|llllll}\n",
       " region & module & coords & bestSnp & genes & numSnps\\\\\n",
       " <chr> & <int> & <chr> & <chr> & <chr> & <chr>\\\\\n",
       "\\hline\n",
       "\t 3p24.1   & 1 & 27038340-27602278   & rs6779140  & NEK10,MICOS10P3,RNU6-342P,SLC4A7,RPS20P15,RNU1-96P & 690 (111)\\\\\n",
       "\t 5p12     & 2 & 44632008-45094503   & rs930395   & LINC02224,RN7SL383P,MRPS30-DT,MRPS30               & 258 (111)\\\\\n",
       "\t 8q24.21  & 3 & 128309591-128442944 & rs9693995  & CASC8,POU5F1B,PCAT1,CCAT2                          & 316 (0)  \\\\\n",
       "\t 10q26.13 & 4 & 123296158-123477629 & rs2981579  & FGFR2,RPS15AP5,ATE1                                & 210 (17) \\\\\n",
       "\t 16q12.1  & 5 & 52525285-52587375   & rs12918816 & TOX3,CASC16                                        & 58 (0)   \\\\\n",
       "\t 16q12.2  & 5 & 52600447-52651714   & rs12922061 & CASC16,TOX3                                        & 58 (0)   \\\\\n",
       "\\end{tabular}\n"
      ],
      "text/markdown": [
       "\n",
       "A tibble: 6 × 6\n",
       "\n",
       "| region &lt;chr&gt; | module &lt;int&gt; | coords &lt;chr&gt; | bestSnp &lt;chr&gt; | genes &lt;chr&gt; | numSnps &lt;chr&gt; |\n",
       "|---|---|---|---|---|---|\n",
       "| 3p24.1   | 1 | 27038340-27602278   | rs6779140  | NEK10,MICOS10P3,RNU6-342P,SLC4A7,RPS20P15,RNU1-96P | 690 (111) |\n",
       "| 5p12     | 2 | 44632008-45094503   | rs930395   | LINC02224,RN7SL383P,MRPS30-DT,MRPS30               | 258 (111) |\n",
       "| 8q24.21  | 3 | 128309591-128442944 | rs9693995  | CASC8,POU5F1B,PCAT1,CCAT2                          | 316 (0)   |\n",
       "| 10q26.13 | 4 | 123296158-123477629 | rs2981579  | FGFR2,RPS15AP5,ATE1                                | 210 (17)  |\n",
       "| 16q12.1  | 5 | 52525285-52587375   | rs12918816 | TOX3,CASC16                                        | 58 (0)    |\n",
       "| 16q12.2  | 5 | 52600447-52651714   | rs12922061 | CASC16,TOX3                                        | 58 (0)    |\n",
       "\n"
      ],
      "text/plain": [
       "  region   module coords              bestSnp   \n",
       "1 3p24.1   1      27038340-27602278   rs6779140 \n",
       "2 5p12     2      44632008-45094503   rs930395  \n",
       "3 8q24.21  3      128309591-128442944 rs9693995 \n",
       "4 10q26.13 4      123296158-123477629 rs2981579 \n",
       "5 16q12.1  5      52525285-52587375   rs12918816\n",
       "6 16q12.2  5      52600447-52651714   rs12922061\n",
       "  genes                                              numSnps  \n",
       "1 NEK10,MICOS10P3,RNU6-342P,SLC4A7,RPS20P15,RNU1-96P 690 (111)\n",
       "2 LINC02224,RN7SL383P,MRPS30-DT,MRPS30               258 (111)\n",
       "3 CASC8,POU5F1B,PCAT1,CCAT2                          316 (0)  \n",
       "4 FGFR2,RPS15AP5,ATE1                                210 (17) \n",
       "5 TOX3,CASC16                                        58 (0)   \n",
       "6 CASC16,TOX3                                        58 (0)   "
      ]
     },
     "metadata": {},
     "output_type": "display_data"
    }
   ],
   "source": [
    "table_regions(gs, gene2snp)"
   ]
  },
  {
   "cell_type": "code",
   "execution_count": 9,
   "metadata": {},
   "outputs": [
    {
     "data": {
      "text/html": [
       "<table>\n",
       "<caption>A tibble: 8 × 6</caption>\n",
       "<thead>\n",
       "\t<tr><th scope=col>region</th><th scope=col>module</th><th scope=col>coords</th><th scope=col>bestSnp</th><th scope=col>genes</th><th scope=col>numSnps</th></tr>\n",
       "\t<tr><th scope=col>&lt;chr&gt;</th><th scope=col>&lt;int&gt;</th><th scope=col>&lt;chr&gt;</th><th scope=col>&lt;chr&gt;</th><th scope=col>&lt;chr&gt;</th><th scope=col>&lt;chr&gt;</th></tr>\n",
       "</thead>\n",
       "<tbody>\n",
       "\t<tr><td>3p24.1  </td><td>5</td><td>27038340-27603597  </td><td>rs6779140 </td><td>NEK10,MICOS10P3,RNU6-342P,SLC4A7,RPS20P15,RNU1-96P                                                                                                                                                                                    </td><td>692 (111)</td></tr>\n",
       "\t<tr><td>5p12    </td><td>3</td><td>44267175-45094503  </td><td>rs930395  </td><td>FGF10,FGF10-AS1,LINC02224,RN7SL383P,MRPS30-DT,MRPS30                                                                                                                                                                                  </td><td>481 (111)</td></tr>\n",
       "\t<tr><td>10q26.12</td><td>4</td><td>123093182-123093901</td><td>rs9420318 </td><td>                                                                                                                                                                                                                                      </td><td>2 (2)    </td></tr>\n",
       "\t<tr><td>10q26.13</td><td>4</td><td>123135724-123423047</td><td>rs2981579 </td><td>RN7SKP167,FGFR2                                                                                                                                                                                                                       </td><td>207 (17) </td></tr>\n",
       "\t<tr><td>10q24.1 </td><td>1</td><td>97921258-99278820  </td><td>rs2817687 </td><td>RNU6-271P,ZNF518A,NPM1P25,BLNK,OPALIN,DNTT,TLL2,TM9SF3,RNA5SP324,RPS2P36,PIK3AP1,RNU6-1274P,RPL13AP5,MIR607,LCOR,HMGN2P35,SLIT1,SLIT1-AS1,ARHGAP19-SLIT1,ARHGAP19,RPL12P27,FRAT1,FRAT2,RRP12,RPL34P20,PGAM1,EXOSC1,ZDHHC16,MMS19,UBTD1</td><td>82 (0)   </td></tr>\n",
       "\t<tr><td>10q24.2 </td><td>1</td><td>99337572-99696316  </td><td>rs7900119 </td><td>UBTD1,ANKRD2,HOGA1,C10orf62,MORN4,PI4K2A,AVPI1,MARVELD1,ZFYVE27,SFRP5,LINC00866,GOLGA7B,CRTAC1                                                                                                                                        </td><td>41 (0)   </td></tr>\n",
       "\t<tr><td>16q12.1 </td><td>2</td><td>52419098-52587375  </td><td>rs12918816</td><td>TOX3,CASC16                                                                                                                                                                                                                           </td><td>63 (1)   </td></tr>\n",
       "\t<tr><td>16q12.2 </td><td>2</td><td>52600447-52735134  </td><td>rs12922061</td><td>CASC16,TOX3                                                                                                                                                                                                                           </td><td>124 (0)  </td></tr>\n",
       "</tbody>\n",
       "</table>\n"
      ],
      "text/latex": [
       "A tibble: 8 × 6\n",
       "\\begin{tabular}{r|llllll}\n",
       " region & module & coords & bestSnp & genes & numSnps\\\\\n",
       " <chr> & <int> & <chr> & <chr> & <chr> & <chr>\\\\\n",
       "\\hline\n",
       "\t 3p24.1   & 5 & 27038340-27603597   & rs6779140  & NEK10,MICOS10P3,RNU6-342P,SLC4A7,RPS20P15,RNU1-96P                                                                                                                                                                                     & 692 (111)\\\\\n",
       "\t 5p12     & 3 & 44267175-45094503   & rs930395   & FGF10,FGF10-AS1,LINC02224,RN7SL383P,MRPS30-DT,MRPS30                                                                                                                                                                                   & 481 (111)\\\\\n",
       "\t 10q26.12 & 4 & 123093182-123093901 & rs9420318  &                                                                                                                                                                                                                                        & 2 (2)    \\\\\n",
       "\t 10q26.13 & 4 & 123135724-123423047 & rs2981579  & RN7SKP167,FGFR2                                                                                                                                                                                                                        & 207 (17) \\\\\n",
       "\t 10q24.1  & 1 & 97921258-99278820   & rs2817687  & RNU6-271P,ZNF518A,NPM1P25,BLNK,OPALIN,DNTT,TLL2,TM9SF3,RNA5SP324,RPS2P36,PIK3AP1,RNU6-1274P,RPL13AP5,MIR607,LCOR,HMGN2P35,SLIT1,SLIT1-AS1,ARHGAP19-SLIT1,ARHGAP19,RPL12P27,FRAT1,FRAT2,RRP12,RPL34P20,PGAM1,EXOSC1,ZDHHC16,MMS19,UBTD1 & 82 (0)   \\\\\n",
       "\t 10q24.2  & 1 & 99337572-99696316   & rs7900119  & UBTD1,ANKRD2,HOGA1,C10orf62,MORN4,PI4K2A,AVPI1,MARVELD1,ZFYVE27,SFRP5,LINC00866,GOLGA7B,CRTAC1                                                                                                                                         & 41 (0)   \\\\\n",
       "\t 16q12.1  & 2 & 52419098-52587375   & rs12918816 & TOX3,CASC16                                                                                                                                                                                                                            & 63 (1)   \\\\\n",
       "\t 16q12.2  & 2 & 52600447-52735134   & rs12922061 & CASC16,TOX3                                                                                                                                                                                                                            & 124 (0)  \\\\\n",
       "\\end{tabular}\n"
      ],
      "text/markdown": [
       "\n",
       "A tibble: 8 × 6\n",
       "\n",
       "| region &lt;chr&gt; | module &lt;int&gt; | coords &lt;chr&gt; | bestSnp &lt;chr&gt; | genes &lt;chr&gt; | numSnps &lt;chr&gt; |\n",
       "|---|---|---|---|---|---|\n",
       "| 3p24.1   | 5 | 27038340-27603597   | rs6779140  | NEK10,MICOS10P3,RNU6-342P,SLC4A7,RPS20P15,RNU1-96P                                                                                                                                                                                     | 692 (111) |\n",
       "| 5p12     | 3 | 44267175-45094503   | rs930395   | FGF10,FGF10-AS1,LINC02224,RN7SL383P,MRPS30-DT,MRPS30                                                                                                                                                                                   | 481 (111) |\n",
       "| 10q26.12 | 4 | 123093182-123093901 | rs9420318  | <!----> | 2 (2)     |\n",
       "| 10q26.13 | 4 | 123135724-123423047 | rs2981579  | RN7SKP167,FGFR2                                                                                                                                                                                                                        | 207 (17)  |\n",
       "| 10q24.1  | 1 | 97921258-99278820   | rs2817687  | RNU6-271P,ZNF518A,NPM1P25,BLNK,OPALIN,DNTT,TLL2,TM9SF3,RNA5SP324,RPS2P36,PIK3AP1,RNU6-1274P,RPL13AP5,MIR607,LCOR,HMGN2P35,SLIT1,SLIT1-AS1,ARHGAP19-SLIT1,ARHGAP19,RPL12P27,FRAT1,FRAT2,RRP12,RPL34P20,PGAM1,EXOSC1,ZDHHC16,MMS19,UBTD1 | 82 (0)    |\n",
       "| 10q24.2  | 1 | 99337572-99696316   | rs7900119  | UBTD1,ANKRD2,HOGA1,C10orf62,MORN4,PI4K2A,AVPI1,MARVELD1,ZFYVE27,SFRP5,LINC00866,GOLGA7B,CRTAC1                                                                                                                                         | 41 (0)    |\n",
       "| 16q12.1  | 2 | 52419098-52587375   | rs12918816 | TOX3,CASC16                                                                                                                                                                                                                            | 63 (1)    |\n",
       "| 16q12.2  | 2 | 52600447-52735134   | rs12922061 | CASC16,TOX3                                                                                                                                                                                                                            | 124 (0)   |\n",
       "\n"
      ],
      "text/plain": [
       "  region   module coords              bestSnp   \n",
       "1 3p24.1   5      27038340-27603597   rs6779140 \n",
       "2 5p12     3      44267175-45094503   rs930395  \n",
       "3 10q26.12 4      123093182-123093901 rs9420318 \n",
       "4 10q26.13 4      123135724-123423047 rs2981579 \n",
       "5 10q24.1  1      97921258-99278820   rs2817687 \n",
       "6 10q24.2  1      99337572-99696316   rs7900119 \n",
       "7 16q12.1  2      52419098-52587375   rs12918816\n",
       "8 16q12.2  2      52600447-52735134   rs12922061\n",
       "  genes                                                                                                                                                                                                                                 \n",
       "1 NEK10,MICOS10P3,RNU6-342P,SLC4A7,RPS20P15,RNU1-96P                                                                                                                                                                                    \n",
       "2 FGF10,FGF10-AS1,LINC02224,RN7SL383P,MRPS30-DT,MRPS30                                                                                                                                                                                  \n",
       "3                                                                                                                                                                                                                                       \n",
       "4 RN7SKP167,FGFR2                                                                                                                                                                                                                       \n",
       "5 RNU6-271P,ZNF518A,NPM1P25,BLNK,OPALIN,DNTT,TLL2,TM9SF3,RNA5SP324,RPS2P36,PIK3AP1,RNU6-1274P,RPL13AP5,MIR607,LCOR,HMGN2P35,SLIT1,SLIT1-AS1,ARHGAP19-SLIT1,ARHGAP19,RPL12P27,FRAT1,FRAT2,RRP12,RPL34P20,PGAM1,EXOSC1,ZDHHC16,MMS19,UBTD1\n",
       "6 UBTD1,ANKRD2,HOGA1,C10orf62,MORN4,PI4K2A,AVPI1,MARVELD1,ZFYVE27,SFRP5,LINC00866,GOLGA7B,CRTAC1                                                                                                                                        \n",
       "7 TOX3,CASC16                                                                                                                                                                                                                           \n",
       "8 CASC16,TOX3                                                                                                                                                                                                                           \n",
       "  numSnps  \n",
       "1 692 (111)\n",
       "2 481 (111)\n",
       "3 2 (2)    \n",
       "4 207 (17) \n",
       "5 82 (0)   \n",
       "6 41 (0)   \n",
       "7 63 (1)   \n",
       "8 124 (0)  "
      ]
     },
     "metadata": {},
     "output_type": "display_data"
    }
   ],
   "source": [
    "table_regions(gm, gene2snp)"
   ]
  },
  {
   "cell_type": "code",
   "execution_count": 10,
   "metadata": {},
   "outputs": [
    {
     "data": {
      "text/html": [
       "<table>\n",
       "<caption>A tibble: 5 × 6</caption>\n",
       "<thead>\n",
       "\t<tr><th scope=col>region</th><th scope=col>module</th><th scope=col>coords</th><th scope=col>bestSnp</th><th scope=col>genes</th><th scope=col>numSnps</th></tr>\n",
       "\t<tr><th scope=col>&lt;chr&gt;</th><th scope=col>&lt;int&gt;</th><th scope=col>&lt;chr&gt;</th><th scope=col>&lt;chr&gt;</th><th scope=col>&lt;chr&gt;</th><th scope=col>&lt;chr&gt;</th></tr>\n",
       "</thead>\n",
       "<tbody>\n",
       "\t<tr><td>2q35  </td><td>3</td><td>217890643-218062296</td><td>rs4672819 </td><td>         </td><td>145 (145)</td></tr>\n",
       "\t<tr><td>2p16.1</td><td>2</td><td>57114156-57365335  </td><td>rs10193589</td><td>         </td><td>21 (21)  </td></tr>\n",
       "\t<tr><td>3p24.1</td><td>4</td><td>27038340-27100290  </td><td>rs4401326 </td><td>         </td><td>110 (110)</td></tr>\n",
       "\t<tr><td>4p15.2</td><td>1</td><td>22062125-22174771  </td><td>rs4626188 </td><td>RNU6-420P</td><td>21 (3)   </td></tr>\n",
       "\t<tr><td>5p12  </td><td>5</td><td>44870852-45094503  </td><td>rs7716600 </td><td>         </td><td>111 (111)</td></tr>\n",
       "</tbody>\n",
       "</table>\n"
      ],
      "text/latex": [
       "A tibble: 5 × 6\n",
       "\\begin{tabular}{r|llllll}\n",
       " region & module & coords & bestSnp & genes & numSnps\\\\\n",
       " <chr> & <int> & <chr> & <chr> & <chr> & <chr>\\\\\n",
       "\\hline\n",
       "\t 2q35   & 3 & 217890643-218062296 & rs4672819  &           & 145 (145)\\\\\n",
       "\t 2p16.1 & 2 & 57114156-57365335   & rs10193589 &           & 21 (21)  \\\\\n",
       "\t 3p24.1 & 4 & 27038340-27100290   & rs4401326  &           & 110 (110)\\\\\n",
       "\t 4p15.2 & 1 & 22062125-22174771   & rs4626188  & RNU6-420P & 21 (3)   \\\\\n",
       "\t 5p12   & 5 & 44870852-45094503   & rs7716600  &           & 111 (111)\\\\\n",
       "\\end{tabular}\n"
      ],
      "text/markdown": [
       "\n",
       "A tibble: 5 × 6\n",
       "\n",
       "| region &lt;chr&gt; | module &lt;int&gt; | coords &lt;chr&gt; | bestSnp &lt;chr&gt; | genes &lt;chr&gt; | numSnps &lt;chr&gt; |\n",
       "|---|---|---|---|---|---|\n",
       "| 2q35   | 3 | 217890643-218062296 | rs4672819  | <!----> | 145 (145) |\n",
       "| 2p16.1 | 2 | 57114156-57365335   | rs10193589 | <!----> | 21 (21)   |\n",
       "| 3p24.1 | 4 | 27038340-27100290   | rs4401326  | <!----> | 110 (110) |\n",
       "| 4p15.2 | 1 | 22062125-22174771   | rs4626188  | RNU6-420P | 21 (3)    |\n",
       "| 5p12   | 5 | 44870852-45094503   | rs7716600  | <!----> | 111 (111) |\n",
       "\n"
      ],
      "text/plain": [
       "  region module coords              bestSnp    genes     numSnps  \n",
       "1 2q35   3      217890643-218062296 rs4672819            145 (145)\n",
       "2 2p16.1 2      57114156-57365335   rs10193589           21 (21)  \n",
       "3 3p24.1 4      27038340-27100290   rs4401326            110 (110)\n",
       "4 4p15.2 1      22062125-22174771   rs4626188  RNU6-420P 21 (3)   \n",
       "5 5p12   5      44870852-45094503   rs7716600            111 (111)"
      ]
     },
     "metadata": {},
     "output_type": "display_data"
    }
   ],
   "source": [
    "table_regions(gi, gene2snp)"
   ]
  },
  {
   "cell_type": "markdown",
   "metadata": {},
   "source": [
    "# GS network"
   ]
  },
  {
   "cell_type": "code",
   "execution_count": 11,
   "metadata": {
    "ExecuteTime": {
     "end_time": "2019-08-04T08:42:50.413387Z",
     "start_time": "2019-08-04T08:42:12.322Z"
    }
   },
   "outputs": [
    {
     "data": {
      "image/png": "[encoded data removed]",
      "text/plain": [
       "plot without title"
      ]
     },
     "metadata": {},
     "output_type": "display_data"
    }
   ],
   "source": [
    "options(repr.plot.width=4, repr.plot.height=4)\n",
    "module_size(gs)"
   ]
  },
  {
   "cell_type": "markdown",
   "metadata": {},
   "source": [
    "Most of the clusters have small sizes (1,2 SNPs). However, it seems that small clusters have a similar association scores as bigger clusters, so I am inclined to think that bigger clusters are not picked despite being having lower association scores, but because they happen to connect high-score SNPs."
   ]
  },
  {
   "cell_type": "code",
   "execution_count": 12,
   "metadata": {
    "ExecuteTime": {
     "end_time": "2019-08-04T08:42:50.451861Z",
     "start_time": "2019-08-04T08:42:12.326Z"
    }
   },
   "outputs": [
    {
     "data": {
      "text/html": [
       "<table>\n",
       "<caption>A grouped_df: 5 × 4</caption>\n",
       "<thead>\n",
       "\t<tr><th scope=col>module</th><th scope=col>chr</th><th scope=col>size</th><th scope=col>C</th></tr>\n",
       "\t<tr><th scope=col>&lt;int&gt;</th><th scope=col>&lt;int&gt;</th><th scope=col>&lt;int&gt;</th><th scope=col>&lt;dbl&gt;</th></tr>\n",
       "</thead>\n",
       "<tbody>\n",
       "\t<tr><td>1</td><td> 3</td><td>690</td><td>5.843032</td></tr>\n",
       "\t<tr><td>3</td><td> 8</td><td>316</td><td>5.396481</td></tr>\n",
       "\t<tr><td>2</td><td> 5</td><td>258</td><td>9.333046</td></tr>\n",
       "\t<tr><td>4</td><td>10</td><td>210</td><td>5.429173</td></tr>\n",
       "\t<tr><td>5</td><td>16</td><td>116</td><td>5.798756</td></tr>\n",
       "</tbody>\n",
       "</table>\n"
      ],
      "text/latex": [
       "A grouped_df: 5 × 4\n",
       "\\begin{tabular}{r|llll}\n",
       " module & chr & size & C\\\\\n",
       " <int> & <int> & <int> & <dbl>\\\\\n",
       "\\hline\n",
       "\t 1 &  3 & 690 & 5.843032\\\\\n",
       "\t 3 &  8 & 316 & 5.396481\\\\\n",
       "\t 2 &  5 & 258 & 9.333046\\\\\n",
       "\t 4 & 10 & 210 & 5.429173\\\\\n",
       "\t 5 & 16 & 116 & 5.798756\\\\\n",
       "\\end{tabular}\n"
      ],
      "text/markdown": [
       "\n",
       "A grouped_df: 5 × 4\n",
       "\n",
       "| module &lt;int&gt; | chr &lt;int&gt; | size &lt;int&gt; | C &lt;dbl&gt; |\n",
       "|---|---|---|---|\n",
       "| 1 |  3 | 690 | 5.843032 |\n",
       "| 3 |  8 | 316 | 5.396481 |\n",
       "| 2 |  5 | 258 | 9.333046 |\n",
       "| 4 | 10 | 210 | 5.429173 |\n",
       "| 5 | 16 | 116 | 5.798756 |\n",
       "\n"
      ],
      "text/plain": [
       "  module chr size C       \n",
       "1 1       3  690  5.843032\n",
       "2 3       8  316  5.396481\n",
       "3 2       5  258  9.333046\n",
       "4 4      10  210  5.429173\n",
       "5 5      16  116  5.798756"
      ]
     },
     "metadata": {},
     "output_type": "display_data"
    }
   ],
   "source": [
    "blur:::compute_mod_size(gs)"
   ]
  },
  {
   "cell_type": "markdown",
   "metadata": {},
   "source": [
    "It seems that the biggest clusters come from only 3 chromosomic regions in chromosomes 3, 5 and 8."
   ]
  },
  {
   "cell_type": "code",
   "execution_count": 13,
   "metadata": {
    "ExecuteTime": {
     "end_time": "2019-08-04T08:44:21.332209Z",
     "start_time": "2019-08-04T08:42:12.330Z"
    }
   },
   "outputs": [
    {
     "ename": "ERROR",
     "evalue": "Error: failed to load external entity \"http://genome.ucsc.edu/FAQ/FAQreleases\"\n\n",
     "output_type": "error",
     "traceback": [
      "Error: failed to load external entity \"http://genome.ucsc.edu/FAQ/FAQreleases\"\n\nTraceback:\n",
      "1. plot_snp_module(gs, 3)",
      "2. by(module, module$chr, function(snps2plot) {\n .     snpRange <- GenomicRanges::GRanges(seqnames = paste0(\"chr\", \n .         snps2plot$chr), ranges = IRanges::IRanges(start = snps2plot$pos, \n .         end = snps2plot$pos))\n .     GenomeInfoDb::genome(snpRange) <- genome\n .     tsnp <- Gviz::AnnotationTrack(snpRange, name = \"SNP\", stacking = \"dense\")\n .     tideo <- Gviz::IdeogramTrack(genome = GenomeInfoDb::genome(snpRange), \n .         chromosome = names(GenomeInfoDb::genome(snpRange)))\n .     tseq <- Gviz::GenomeAxisTrack()\n .     tbio <- Gviz::BiomartGeneRegionTrack(genome = genome, chromosome = names(GenomeInfoDb::genome(snpRange)), \n .         start = head(snps2plot$pos, n = 1), end = tail(snps2plot$pos, \n .             n = 1), name = \"Ensembl\")\n .     Gviz::plotTracks(list(tideo, tseq, tbio, tsnp), showId = TRUE)\n . })   # at line 23-42 of file /Users/hclimente/projects/blur/R/tracks.R",
      "3. by.data.frame(module, module$chr, function(snps2plot) {\n .     snpRange <- GenomicRanges::GRanges(seqnames = paste0(\"chr\", \n .         snps2plot$chr), ranges = IRanges::IRanges(start = snps2plot$pos, \n .         end = snps2plot$pos))\n .     GenomeInfoDb::genome(snpRange) <- genome\n .     tsnp <- Gviz::AnnotationTrack(snpRange, name = \"SNP\", stacking = \"dense\")\n .     tideo <- Gviz::IdeogramTrack(genome = GenomeInfoDb::genome(snpRange), \n .         chromosome = names(GenomeInfoDb::genome(snpRange)))\n .     tseq <- Gviz::GenomeAxisTrack()\n .     tbio <- Gviz::BiomartGeneRegionTrack(genome = genome, chromosome = names(GenomeInfoDb::genome(snpRange)), \n .         start = head(snps2plot$pos, n = 1), end = tail(snps2plot$pos, \n .             n = 1), name = \"Ensembl\")\n .     Gviz::plotTracks(list(tideo, tseq, tbio, tsnp), showId = TRUE)\n . })",
      "4. structure(eval(substitute(tapply(seq_len(nd), IND, FUNx, simplify = simplify)), \n .     data), call = match.call(), class = \"by\")",
      "5. eval(substitute(tapply(seq_len(nd), IND, FUNx, simplify = simplify)), \n .     data)",
      "6. eval(substitute(tapply(seq_len(nd), IND, FUNx, simplify = simplify)), \n .     data)",
      "7. tapply(seq_len(316L), list(`module$chr` = c(8L, 8L, 8L, 8L, 8L, \n . 8L, 8L, 8L, 8L, 8L, 8L, 8L, 8L, 8L, 8L, 8L, 8L, 8L, 8L, 8L, 8L, \n . 8L, 8L, 8L, 8L, 8L, 8L, 8L, 8L, 8L, 8L, 8L, 8L, 8L, 8L, 8L, 8L, \n . 8L, 8L, 8L, 8L, 8L, 8L, 8L, 8L, 8L, 8L, 8L, 8L, 8L, 8L, 8L, 8L, \n . 8L, 8L, 8L, 8L, 8L, 8L, 8L, 8L, 8L, 8L, 8L, 8L, 8L, 8L, 8L, 8L, \n . 8L, 8L, 8L, 8L, 8L, 8L, 8L, 8L, 8L, 8L, 8L, 8L, 8L, 8L, 8L, 8L, \n . 8L, 8L, 8L, 8L, 8L, 8L, 8L, 8L, 8L, 8L, 8L, 8L, 8L, 8L, 8L, 8L, \n . 8L, 8L, 8L, 8L, 8L, 8L, 8L, 8L, 8L, 8L, 8L, 8L, 8L, 8L, 8L, 8L, \n . 8L, 8L, 8L, 8L, 8L, 8L, 8L, 8L, 8L, 8L, 8L, 8L, 8L, 8L, 8L, 8L, \n . 8L, 8L, 8L, 8L, 8L, 8L, 8L, 8L, 8L, 8L, 8L, 8L, 8L, 8L, 8L, 8L, \n . 8L, 8L, 8L, 8L, 8L, 8L, 8L, 8L, 8L, 8L, 8L, 8L, 8L, 8L, 8L, 8L, \n . 8L, 8L, 8L, 8L, 8L, 8L, 8L, 8L, 8L, 8L, 8L, 8L, 8L, 8L, 8L, 8L, \n . 8L, 8L, 8L, 8L, 8L, 8L, 8L, 8L, 8L, 8L, 8L, 8L, 8L, 8L, 8L, 8L, \n . 8L, 8L, 8L, 8L, 8L, 8L, 8L, 8L, 8L, 8L, 8L, 8L, 8L, 8L, 8L, 8L, \n . 8L, 8L, 8L, 8L, 8L, 8L, 8L, 8L, 8L, 8L, 8L, 8L, 8L, 8L, 8L, 8L, \n . 8L, 8L, 8L, 8L, 8L, 8L, 8L, 8L, 8L, 8L, 8L, 8L, 8L, 8L, 8L, 8L, \n . 8L, 8L, 8L, 8L, 8L, 8L, 8L, 8L, 8L, 8L, 8L, 8L, 8L, 8L, 8L, 8L, \n . 8L, 8L, 8L, 8L, 8L, 8L, 8L, 8L, 8L, 8L, 8L, 8L, 8L, 8L, 8L, 8L, \n . 8L, 8L, 8L, 8L, 8L, 8L, 8L, 8L, 8L, 8L, 8L, 8L, 8L, 8L, 8L, 8L, \n . 8L, 8L, 8L, 8L, 8L, 8L, 8L, 8L, 8L, 8L, 8L, 8L, 8L, 8L, 8L, 8L, \n . 8L, 8L, 8L, 8L, 8L, 8L, 8L)), function (x) \n . FUN(data[x, , drop = FALSE], ...), simplify = TRUE)",
      "8. lapply(X = ans[index], FUN = FUN, ...)",
      "9. FUN(X[[i]], ...)",
      "10. FUN(data[x, , drop = FALSE], ...)",
      "11. Gviz::IdeogramTrack(genome = GenomeInfoDb::genome(snpRange), \n  .     chromosome = names(GenomeInfoDb::genome(snpRange)))   # at line 31-32 of file /Users/hclimente/projects/blur/R/tracks.R",
      "12. new(\"IdeogramTrack\", chromosome = chromosome, genome = genome, \n  .     name = name, bands = bands, ...)",
      "13. initialize(value, ...)",
      "14. initialize(value, ...)",
      "15. .local(.Object, ...)",
      "16. .cacheGenomes(genome = genome)",
      "17. .doCache(availToken, expression(ucscGenomes()), env)",
      "18. eval(expression, envir = callEnv)",
      "19. eval(expression, envir = callEnv)",
      "20. eval(expression, envir = callEnv)",
      "21. ucscGenomes()",
      "22. readHTMLTable(url)",
      "23. readHTMLTable(url)",
      "24. .local(doc, header, colClasses, skip.rows, trim, elFun, as.data.frame, \n  .     which, ...)",
      "25. htmlParse(doc, encoding = encoding)",
      "26. (function (msg, code, domain, line, col, level, filename, class = \"XMLError\") \n  . {\n  .     e = makeXMLError(msg, code, domain, line, col, level, filename, \n  .         class)\n  .     dom = names(e$domain)\n  .     class(e) = c(names(e$code), sprintf(\"%s_Error\", gsub(\"_FROM_\", \n  .         \"_\", dom)), class(e))\n  .     if (e$code == xmlParserErrors[\"XML_IO_LOAD_ERROR\"]) \n  .         stop(e)\n  . })(\"failed to load external entity \\\"http://genome.ucsc.edu/FAQ/FAQreleases\\\"\\n\", \n  .     1549L, 8L, 0L, 0L, 1L, character(0))"
     ]
    }
   ],
   "source": [
    "options(repr.plot.width=10, repr.plot.height=4)\n",
    "# cluster in chromosome 8\n",
    "plot_snp_module(gs, 3)"
   ]
  },
  {
   "cell_type": "markdown",
   "metadata": {},
   "source": [
    "In chromosome 8 we find gene CASC8, which had appreared in previous analyses."
   ]
  },
  {
   "cell_type": "code",
   "execution_count": null,
   "metadata": {
    "ExecuteTime": {
     "end_time": "2019-08-04T08:44:25.724735Z",
     "start_time": "2019-08-04T08:42:12.333Z"
    }
   },
   "outputs": [],
   "source": [
    "options(repr.plot.width=10, repr.plot.height=4)\n",
    "# cluster in chromosome 5\n",
    "plot_snp_module(gs, 2)"
   ]
  },
  {
   "cell_type": "markdown",
   "metadata": {},
   "source": [
    "In this region we find two compelling genes: MRPS30, the S30 subunit of the mitochondrial ribosome and potentially involved in energetic metabolism; and, more interestingly, RP11-53O19.1, also known as Breast Cancer-Associated Transcript 54, a ncRNA."
   ]
  },
  {
   "cell_type": "code",
   "execution_count": null,
   "metadata": {
    "ExecuteTime": {
     "end_time": "2019-08-04T08:44:30.147987Z",
     "start_time": "2019-08-04T08:42:12.337Z"
    }
   },
   "outputs": [],
   "source": [
    "options(repr.plot.width=10, repr.plot.height=5)\n",
    "k <- blur:::compute_mod_size(gs) %>% filter(chr == 3) %>% .$module %>% head(n = 20)\n",
    "plot_snp_module(gs, k)"
   ]
  },
  {
   "cell_type": "markdown",
   "metadata": {},
   "source": [
    "# GM network"
   ]
  },
  {
   "cell_type": "code",
   "execution_count": null,
   "metadata": {
    "ExecuteTime": {
     "end_time": "2019-08-04T08:44:38.884355Z",
     "start_time": "2019-08-04T08:42:12.355Z"
    }
   },
   "outputs": [],
   "source": [
    "options(repr.plot.width=4, repr.plot.height=4)\n",
    "module_size(gm)"
   ]
  },
  {
   "cell_type": "code",
   "execution_count": null,
   "metadata": {
    "ExecuteTime": {
     "end_time": "2019-08-04T08:44:38.911167Z",
     "start_time": "2019-08-04T08:42:12.359Z"
    }
   },
   "outputs": [],
   "source": [
    "blur:::compute_mod_size(gm)"
   ]
  },
  {
   "cell_type": "markdown",
   "metadata": {},
   "source": [
    "Only 2 chromosomic regions here, in chromosomes 3 and 5, around the regions we already described."
   ]
  },
  {
   "cell_type": "code",
   "execution_count": null,
   "metadata": {
    "ExecuteTime": {
     "end_time": "2019-08-04T08:44:43.966688Z",
     "start_time": "2019-08-04T08:42:12.362Z"
    }
   },
   "outputs": [],
   "source": [
    "options(repr.plot.width=10, repr.plot.height=5)\n",
    "k <- blur:::compute_mod_size(gm) %>% filter(chr == 3) %>% .$module %>% head(n = 20)\n",
    "plot_snp_module(gm, k)"
   ]
  },
  {
   "cell_type": "code",
   "execution_count": null,
   "metadata": {
    "ExecuteTime": {
     "end_time": "2019-08-04T08:44:50.421492Z",
     "start_time": "2019-08-04T08:42:12.364Z"
    }
   },
   "outputs": [],
   "source": [
    "options(repr.plot.width=10, repr.plot.height=4)\n",
    "k <- blur:::compute_mod_size(gm) %>% filter(chr == 5) %>% .$module %>% head(n = 20)\n",
    "plot_snp_module(gm, k)"
   ]
  },
  {
   "cell_type": "markdown",
   "metadata": {},
   "source": [
    "# GI network"
   ]
  },
  {
   "cell_type": "code",
   "execution_count": null,
   "metadata": {
    "ExecuteTime": {
     "end_time": "2019-08-04T08:44:51.733170Z",
     "start_time": "2019-08-04T08:42:12.374Z"
    }
   },
   "outputs": [],
   "source": [
    "options(repr.plot.width=4, repr.plot.height=4)\n",
    "module_size(gi)"
   ]
  },
  {
   "cell_type": "code",
   "execution_count": null,
   "metadata": {
    "ExecuteTime": {
     "end_time": "2019-08-04T08:44:51.762728Z",
     "start_time": "2019-08-04T08:42:12.377Z"
    }
   },
   "outputs": [],
   "source": [
    "head(blur:::compute_mod_size(gi))"
   ]
  },
  {
   "cell_type": "code",
   "execution_count": null,
   "metadata": {
    "ExecuteTime": {
     "end_time": "2019-08-04T08:45:03.965154Z",
     "start_time": "2019-08-04T08:42:12.379Z"
    }
   },
   "outputs": [],
   "source": [
    "options(repr.plot.width=5, repr.plot.height=5)\n",
    "plot_ideogram(gi)"
   ]
  },
  {
   "cell_type": "markdown",
   "metadata": {},
   "source": [
    "We observe how modules span through different chromosomes."
   ]
  },
  {
   "cell_type": "code",
   "execution_count": null,
   "metadata": {
    "ExecuteTime": {
     "end_time": "2019-08-04T08:45:20.516554Z",
     "start_time": "2019-08-04T08:42:12.385Z"
    }
   },
   "outputs": [],
   "source": [
    "options(repr.plot.width=6, repr.plot.height=3.5)\n",
    "\n",
    "filter(gi_net, selected) %>%\n",
    "    igraph::as.igraph() %>%\n",
    "    ggnetwork %>%\n",
    "    ggplot(aes(x = x, y = y, xend = xend, yend = yend)) +\n",
    "        geom_edges(color = \"grey50\") +\n",
    "        geom_nodes(aes(color = gene)) +\n",
    "        facet_wrap(~module) +\n",
    "        theme_facet()"
   ]
  }
 ],
 "metadata": {
  "kernelspec": {
   "display_name": "R",
   "language": "R",
   "name": "ir"
  },
  "language_info": {
   "codemirror_mode": "r",
   "file_extension": ".r",
   "mimetype": "text/x-r-source",
   "name": "R",
   "pygments_lexer": "r",
   "version": "3.6.1"
  }
 },
 "nbformat": 4,
 "nbformat_minor": 2
}
