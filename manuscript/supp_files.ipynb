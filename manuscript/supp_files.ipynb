{
 "cells": [
  {
   "cell_type": "code",
   "execution_count": 1,
   "metadata": {},
   "outputs": [
    {
     "name": "stderr",
     "output_type": "stream",
     "text": [
      "── \u001b[1mAttaching packages\u001b[22m ─────────────────────────────────────── tidyverse 1.2.1 ──\n",
      "\u001b[32m✔\u001b[39m \u001b[34mggplot2\u001b[39m 3.2.1     \u001b[32m✔\u001b[39m \u001b[34mpurrr  \u001b[39m 0.3.2\n",
      "\u001b[32m✔\u001b[39m \u001b[34mtibble \u001b[39m 2.1.3     \u001b[32m✔\u001b[39m \u001b[34mdplyr  \u001b[39m 0.8.3\n",
      "\u001b[32m✔\u001b[39m \u001b[34mtidyr  \u001b[39m 0.8.3     \u001b[32m✔\u001b[39m \u001b[34mstringr\u001b[39m 1.4.0\n",
      "\u001b[32m✔\u001b[39m \u001b[34mreadr  \u001b[39m 1.3.1     \u001b[32m✔\u001b[39m \u001b[34mforcats\u001b[39m 0.4.0\n",
      "── \u001b[1mConflicts\u001b[22m ────────────────────────────────────────── tidyverse_conflicts() ──\n",
      "\u001b[31m✖\u001b[39m \u001b[34mtidyr\u001b[39m::\u001b[32mextract()\u001b[39m   masks \u001b[34mmagrittr\u001b[39m::extract()\n",
      "\u001b[31m✖\u001b[39m \u001b[34mdplyr\u001b[39m::\u001b[32mfilter()\u001b[39m    masks \u001b[34mstats\u001b[39m::filter()\n",
      "\u001b[31m✖\u001b[39m \u001b[34mdplyr\u001b[39m::\u001b[32mlag()\u001b[39m       masks \u001b[34mstats\u001b[39m::lag()\n",
      "\u001b[31m✖\u001b[39m \u001b[34mpurrr\u001b[39m::\u001b[32mset_names()\u001b[39m masks \u001b[34mmagrittr\u001b[39m::set_names()\n"
     ]
    }
   ],
   "source": [
    "library(magrittr)\n",
    "library(tidyverse)\n",
    "\n",
    "results <- '../results/'"
   ]
  },
  {
   "cell_type": "code",
   "execution_count": 2,
   "metadata": {},
   "outputs": [
    {
     "name": "stderr",
     "output_type": "stream",
     "text": [
      "Warning message:\n",
      "“Unnamed `col_types` should have the same length as `col_names`. Using smaller of the two.”Warning message:\n",
      "“556 parsing failures.\n",
      "row         col           expected            actual                                 file\n",
      "  1 betweenness 1/0/T/F/TRUE/FALSE 10665.95418836259 '../results/consensus/consensus.tsv'\n",
      "  1 degree      1/0/T/F/TRUE/FALSE 36                '../results/consensus/consensus.tsv'\n",
      "  1 p           1/0/T/F/TRUE/FALSE 0.014529854701453 '../results/consensus/consensus.tsv'\n",
      "  1 hotnet2     an integer         TRUE              '../results/consensus/consensus.tsv'\n",
      "  1 heinz       an integer         FALSE             '../results/consensus/consensus.tsv'\n",
      "... ........... .................. ................. ....................................\n",
      "See problems(...) for more details.\n",
      "”Warning message:\n",
      "“Unknown or uninitialised column: 'name'.”"
     ]
    }
   ],
   "source": [
    "dmgwas <- read_tsv(paste0(results,'dmgwas/selected_genes.dmgwas.txt'), col_types = 'c')$gene\n",
    "sigmod <- read_tsv(paste0(results,'sigmod/selected_genes.sigmod.txt'), col_types = 'c')$gene\n",
    "heinz <- read_tsv(paste0(results,'heinz/selected_genes.heinz.txt'), col_types = 'c')$gene\n",
    "hotnet2 <- read_tsv(paste0(results,'hotnet2/selected_genes.hotnet2.tsv'), col_types = 'cc')$gene\n",
    "lean <- read_tsv(paste0(results,'lean/scored_genes.lean.txt'), col_types = 'cdddddddd') %>%\n",
    "    filter(PLEAN < 0.05) %>%\n",
    "    .$Gene\n",
    "consensus <- read_tsv(paste0(results,'consensus/consensus.tsv'), col_types = 'clllllii')$name"
   ]
  },
  {
   "cell_type": "code",
   "execution_count": 3,
   "metadata": {},
   "outputs": [],
   "source": [
    "scones_gs <- read_tsv(paste0(results,'scones/cones_gs.tsv'), col_types = \"ciiiccdli\") %>%\n",
    "    filter(selected) %>%\n",
    "    .$snp\n",
    "scones_gm <- read_tsv(paste0(results,'scones/cones_gm.tsv'), col_types = \"ciiiccdli\") %>%\n",
    "    filter(selected) %>%\n",
    "    .$snp\n",
    "scones_gi <- read_tsv(paste0(results,'scones/cones_gi.tsv'), col_types = \"ciiiccdli\") %>%\n",
    "    filter(selected) %>%\n",
    "    .$snp"
   ]
  },
  {
   "cell_type": "markdown",
   "metadata": {},
   "source": [
    "# Supplementary file 1: selected genes"
   ]
  },
  {
   "cell_type": "code",
   "execution_count": 4,
   "metadata": {},
   "outputs": [],
   "source": [
    "snp2gene <- read_tsv(paste0(results,'preprocessing/snp2hgnc.tsv'), col_types = 'cc')\n",
    "scones_gs_gene <- filter(snp2gene, snp %in% scones_gs) %>% .$gene\n",
    "scones_gm_gene <- filter(snp2gene, snp %in% scones_gm) %>% .$gene\n",
    "scones_gi_gene <- filter(snp2gene, snp %in% scones_gi) %>% .$gene"
   ]
  },
  {
   "cell_type": "code",
   "execution_count": 5,
   "metadata": {},
   "outputs": [],
   "source": [
    "read_tsv(paste0(results,'preprocessing/scored_genes.vegas.txt'), \n",
    "         col_types = 'iciddddddcd') %>%\n",
    "    mutate(Consensus = ifelse(Gene %in% consensus, 'Yes', 'No'),\n",
    "           dmGWAS = ifelse(Gene %in% dmgwas, 'Yes', 'No'),\n",
    "           heinz = ifelse(Gene %in% heinz, 'Yes', 'No'),\n",
    "           HotNet2 = ifelse(Gene %in% hotnet2, 'Yes', 'No'),\n",
    "           LEAN = ifelse(Gene %in% lean, 'Yes', 'No'),\n",
    "           SConES_GS = ifelse(Gene %in% scones_gs_gene, 'Yes', 'No'),\n",
    "           SConES_GM = ifelse(Gene %in% scones_gm_gene, 'Yes', 'No'),\n",
    "           SConES_GI = ifelse(Gene %in% scones_gi_gene, 'Yes', 'No'),\n",
    "           SigMod = ifelse(Gene %in% sigmod, 'Yes', 'No')) %>%\n",
    "    write_tsv('files/sfile_1.tsv')"
   ]
  },
  {
   "cell_type": "markdown",
   "metadata": {},
   "source": [
    "# Supplementary file 2: selected SNPs"
   ]
  },
  {
   "cell_type": "code",
   "execution_count": 6,
   "metadata": {},
   "outputs": [],
   "source": [
    "snp_assoc <- read_tsv(paste0(results, 'conventional_gwas/univariate_models.no_covars.tsv'), \n",
    "         col_types = 'icdccccddd') %>%\n",
    "    rename(Chr = CHR) %>%\n",
    "    select(-A1, -F_A, -F_U, -A2)"
   ]
  },
  {
   "cell_type": "code",
   "execution_count": 7,
   "metadata": {},
   "outputs": [],
   "source": [
    "dmgwas_snp <- filter(snp2gene, gene %in% dmgwas) %>% .$snp\n",
    "sigmod_snp <- filter(snp2gene, gene %in% sigmod) %>% .$snp\n",
    "heinz_snp <- filter(snp2gene, gene %in% heinz) %>% .$snp\n",
    "hotnet2_snp <- filter(snp2gene, gene %in% hotnet2) %>% .$snp\n",
    "lean_snp <- filter(snp2gene, gene %in% lean) %>% .$snp\n",
    "consensus_snp <- filter(snp2gene, gene %in% consensus) %>% .$snp"
   ]
  },
  {
   "cell_type": "code",
   "execution_count": 8,
   "metadata": {},
   "outputs": [],
   "source": [
    "snp_assoc %>%\n",
    "    mutate(consensus = ifelse(SNP %in% consensus_snp, 'Yes', 'No'),\n",
    "           dmGWAS = ifelse(SNP %in% dmgwas_snp, 'Yes', 'No'),\n",
    "           heinz = ifelse(SNP %in% heinz_snp, 'Yes', 'No'),\n",
    "           HotNet2 = ifelse(SNP %in% hotnet2_snp, 'Yes', 'No'),\n",
    "           LEAN = ifelse(SNP %in% lean_snp, 'Yes', 'No'),\n",
    "           SConES_GS = ifelse(SNP %in% scones_gs, 'Yes', 'No'),\n",
    "           SConES_GM = ifelse(SNP %in% scones_gm, 'Yes', 'No'),\n",
    "           SConES_GI = ifelse(SNP %in% scones_gi, 'Yes', 'No'),\n",
    "           SigMod = ifelse(SNP %in% sigmod_snp, 'Yes', 'No')) %>%\n",
    "    write_tsv('files/sfile_2.tsv')"
   ]
  }
 ],
 "metadata": {
  "kernelspec": {
   "display_name": "R",
   "language": "R",
   "name": "ir"
  },
  "language_info": {
   "codemirror_mode": "r",
   "file_extension": ".r",
   "mimetype": "text/x-r-source",
   "name": "R",
   "pygments_lexer": "r",
   "version": "3.6.1"
  }
 },
 "nbformat": 4,
 "nbformat_minor": 2
}
