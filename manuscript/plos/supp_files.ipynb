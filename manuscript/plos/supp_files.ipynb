{
 "cells": [
  {
   "cell_type": "code",
   "execution_count": 4,
   "metadata": {},
   "outputs": [],
   "source": [
    "library(magrittr)\n",
    "library(tidyverse)\n",
    "\n",
    "results <- '../../results/'"
   ]
  },
  {
   "cell_type": "code",
   "execution_count": 25,
   "metadata": {},
   "outputs": [],
   "source": [
    "dmgwas <- read_tsv(paste0(results,'dmgwas/selected_genes.dmgwas.txt'), col_types = 'c')$gene\n",
    "sigmod <- read_tsv(paste0(results,'sigmod/selected_genes.sigmod.txt'), col_types = 'c')$gene\n",
    "heinz <- read_tsv(paste0(results,'heinz/selected_genes.heinz.txt'), col_types = 'c')$gene\n",
    "hotnet2 <- read_tsv(paste0(results,'hotnet2/selected_genes.hotnet2.tsv'), col_types = 'cc')$gene\n",
    "lean <- read_tsv(paste0(results,'lean/scored_genes.lean.txt'), col_types = 'cdddddddd') %>%\n",
    "    filter(PLEAN < 0.05) %>%\n",
    "    .$Gene\n",
    "consensus <- read_tsv(paste0(results,'consensus/consensus.tsv'), col_types = 'cdidllllllli')$gene"
   ]
  },
  {
   "cell_type": "code",
   "execution_count": 9,
   "metadata": {},
   "outputs": [],
   "source": [
    "scones_gs <- read_tsv(paste0(results,'scones/cones_gs.tsv'), col_types = \"ciiiccdli\") %>%\n",
    "    filter(selected) %>%\n",
    "    .$snp\n",
    "scones_gm <- read_tsv(paste0(results,'scones/cones_gm.tsv'), col_types = \"ciiiccdli\") %>%\n",
    "    filter(selected) %>%\n",
    "    .$snp\n",
    "scones_gi <- read_tsv(paste0(results,'scones/cones_gi.tsv'), col_types = \"ciiiccdli\") %>%\n",
    "    filter(selected) %>%\n",
    "    .$snp"
   ]
  },
  {
   "cell_type": "markdown",
   "metadata": {},
   "source": [
    "# Supplementary file 1: selected genes"
   ]
  },
  {
   "cell_type": "code",
   "execution_count": 10,
   "metadata": {},
   "outputs": [],
   "source": [
    "snp2gene <- read_tsv(paste0(results,'preprocessing/snp2hgnc.tsv'), col_types = 'cc')\n",
    "scones_gs_gene <- filter(snp2gene, snp %in% scones_gs) %>% .$gene\n",
    "scones_gm_gene <- filter(snp2gene, snp %in% scones_gm) %>% .$gene\n",
    "scones_gi_gene <- filter(snp2gene, snp %in% scones_gi) %>% .$gene"
   ]
  },
  {
   "cell_type": "code",
   "execution_count": 12,
   "metadata": {},
   "outputs": [],
   "source": [
    "read_tsv(paste0(results,'preprocessing/scored_genes.vegas.txt'), \n",
    "         col_types = 'iciddddddcd') %>%\n",
    "    mutate(Consensus = ifelse(Gene %in% consensus, 'Yes', 'No'),\n",
    "           dmGWAS = ifelse(Gene %in% dmgwas, 'Yes', 'No'),\n",
    "           heinz = ifelse(Gene %in% heinz, 'Yes', 'No'),\n",
    "           HotNet2 = ifelse(Gene %in% hotnet2, 'Yes', 'No'),\n",
    "           LEAN = ifelse(Gene %in% lean, 'Yes', 'No'),\n",
    "           SConES_GS = ifelse(Gene %in% scones_gs_gene, 'Yes', 'No'),\n",
    "           SConES_GM = ifelse(Gene %in% scones_gm_gene, 'Yes', 'No'),\n",
    "           SConES_GI = ifelse(Gene %in% scones_gi_gene, 'Yes', 'No'),\n",
    "           SigMod = ifelse(Gene %in% sigmod, 'Yes', 'No')) %>%\n",
    "    write_tsv('files/sfile_1.tsv')"
   ]
  },
  {
   "cell_type": "markdown",
   "metadata": {},
   "source": [
    "# Supplementary file 2: selected SNPs"
   ]
  },
  {
   "cell_type": "code",
   "execution_count": 6,
   "metadata": {},
   "outputs": [],
   "source": [
    "snp_assoc <- read_tsv(paste0(results, 'conventional_gwas/univariate_models.no_covars.tsv'), \n",
    "         col_types = 'icdccccddd') %>%\n",
    "    rename(Chr = CHR) %>%\n",
    "    select(-A1, -F_A, -F_U, -A2)"
   ]
  },
  {
   "cell_type": "code",
   "execution_count": 7,
   "metadata": {},
   "outputs": [],
   "source": [
    "dmgwas_snp <- filter(snp2gene, gene %in% dmgwas) %>% .$snp\n",
    "sigmod_snp <- filter(snp2gene, gene %in% sigmod) %>% .$snp\n",
    "heinz_snp <- filter(snp2gene, gene %in% heinz) %>% .$snp\n",
    "hotnet2_snp <- filter(snp2gene, gene %in% hotnet2) %>% .$snp\n",
    "lean_snp <- filter(snp2gene, gene %in% lean) %>% .$snp\n",
    "consensus_snp <- filter(snp2gene, gene %in% consensus) %>% .$snp"
   ]
  },
  {
   "cell_type": "code",
   "execution_count": 8,
   "metadata": {},
   "outputs": [],
   "source": [
    "snp_assoc %>%\n",
    "    mutate(consensus = ifelse(SNP %in% consensus_snp, 'Yes', 'No'),\n",
    "           dmGWAS = ifelse(SNP %in% dmgwas_snp, 'Yes', 'No'),\n",
    "           heinz = ifelse(SNP %in% heinz_snp, 'Yes', 'No'),\n",
    "           HotNet2 = ifelse(SNP %in% hotnet2_snp, 'Yes', 'No'),\n",
    "           LEAN = ifelse(SNP %in% lean_snp, 'Yes', 'No'),\n",
    "           SConES_GS = ifelse(SNP %in% scones_gs, 'Yes', 'No'),\n",
    "           SConES_GM = ifelse(SNP %in% scones_gm, 'Yes', 'No'),\n",
    "           SConES_GI = ifelse(SNP %in% scones_gi, 'Yes', 'No'),\n",
    "           SigMod = ifelse(SNP %in% sigmod_snp, 'Yes', 'No')) %>%\n",
    "    write_tsv('files/sfile_2.tsv')"
   ]
  },
  {
   "cell_type": "markdown",
   "metadata": {},
   "source": [
    "# Supplementary files: pathway"
   ]
  },
  {
   "cell_type": "code",
   "execution_count": 15,
   "metadata": {},
   "outputs": [],
   "source": [
    "dict <- read_tsv(paste0(results, 'preprocessing/non_alt_loci_set.txt'),\n",
    "                 col_types = cols(.default = \"c\")) %>%\n",
    "    select(symbol, entrez_id)\n",
    "\n",
    "symbol2entrez <- dict$entrez_id\n",
    "names(symbol2entrez) <- dict$symbol\n",
    "\n",
    "entrez2symbol <- dict$symbol\n",
    "names(entrez2symbol) <- dict$entrez_id\n",
    "\n",
    "universe <- read_tsv('~/data/genesis/genesis_2019.bim', col_names = F, col_types = 'iciicc') %>%\n",
    "    inner_join(read_tsv(paste0(results, 'preprocessing/snp2hgnc.tsv'), col_types = 'cc'), \n",
    "               by = c('X2' = 'snp')) %>%\n",
    "    .$gene %>%\n",
    "    symbol2entrez[.] %>%\n",
    "    unique\n",
    "\n",
    "suppressPackageStartupMessages(library(ReactomePA))"
   ]
  },
  {
   "cell_type": "code",
   "execution_count": 27,
   "metadata": {},
   "outputs": [],
   "source": [
    "enrichPathway(gene = symbol2entrez[hotnet2],\n",
    "              universe = universe) %>%\n",
    "    as_tibble %>%\n",
    "    rowwise %>%\n",
    "    mutate(geneID = strsplit(geneID, '/'),\n",
    "           geneID = entrez2symbol[unlist(geneID)] %>% paste(collapse = '/')) %>%\n",
    "    write_tsv('files/sfile_hotnet2_pwy.tsv')"
   ]
  },
  {
   "cell_type": "code",
   "execution_count": 19,
   "metadata": {},
   "outputs": [],
   "source": [
    "enrichPathway(gene = symbol2entrez[sigmod],\n",
    "              universe = universe) %>%\n",
    "    as_tibble %>%\n",
    "    rowwise %>%\n",
    "    mutate(geneID = strsplit(geneID, '/'),\n",
    "           geneID = entrez2symbol[unlist(geneID)] %>% paste(collapse = '/')) %>%\n",
    "    write_tsv('files/sfile_sigmod_pwy.tsv')"
   ]
  },
  {
   "cell_type": "code",
   "execution_count": 20,
   "metadata": {},
   "outputs": [],
   "source": [
    "enrichPathway(gene = symbol2entrez[dmgwas],\n",
    "              universe = universe) %>%\n",
    "    as_tibble %>%\n",
    "    rowwise %>%\n",
    "    mutate(geneID = strsplit(geneID, '/'),\n",
    "           geneID = entrez2symbol[unlist(geneID)] %>% paste(collapse = '/')) %>%\n",
    "    write_tsv('files/sfile_dmgwas_pwy.tsv')"
   ]
  },
  {
   "cell_type": "code",
   "execution_count": 26,
   "metadata": {},
   "outputs": [],
   "source": [
    "enrichPathway(gene = symbol2entrez[consensus],\n",
    "              universe = universe) %>%\n",
    "    as_tibble %>%\n",
    "    rowwise %>%\n",
    "    mutate(geneID = strsplit(geneID, '/'),\n",
    "           geneID = entrez2symbol[unlist(geneID)] %>% paste(collapse = '/')) %>%\n",
    "    write_tsv('files/sfile_consensus_pwy.tsv')"
   ]
  }
 ],
 "metadata": {
  "kernelspec": {
   "display_name": "R",
   "language": "R",
   "name": "ir"
  },
  "language_info": {
   "codemirror_mode": "r",
   "file_extension": ".r",
   "mimetype": "text/x-r-source",
   "name": "R",
   "pygments_lexer": "r",
   "version": "4.0.2"
  }
 },
 "nbformat": 4,
 "nbformat_minor": 2
}
