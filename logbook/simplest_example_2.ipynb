{
 "cells": [
  {
   "cell_type": "code",
   "execution_count": 1,
   "metadata": {
    "collapsed": false
   },
   "outputs": [
    {
     "name": "stderr",
     "output_type": "stream",
     "text": [
      "Loading tidyverse: ggplot2\n",
      "Loading tidyverse: tibble\n",
      "Loading tidyverse: tidyr\n",
      "Loading tidyverse: readr\n",
      "Loading tidyverse: purrr\n",
      "Loading tidyverse: dplyr\n",
      "Conflicts with tidy packages ---------------------------------------------------\n",
      "filter(): dplyr, stats\n",
      "lag():    dplyr, stats\n",
      "\n",
      "Attaching package: ‘magrittr’\n",
      "\n",
      "The following object is masked from ‘package:purrr’:\n",
      "\n",
      "    set_names\n",
      "\n",
      "The following object is masked from ‘package:tidyr’:\n",
      "\n",
      "    extract\n",
      "\n",
      "Loading required package: Matrix\n",
      "\n",
      "Attaching package: ‘Matrix’\n",
      "\n",
      "The following object is masked from ‘package:tidyr’:\n",
      "\n",
      "    expand\n",
      "\n",
      "Loading required package: lattice\n",
      "\n",
      "Attaching package: ‘caret’\n",
      "\n",
      "The following object is masked from ‘package:purrr’:\n",
      "\n",
      "    lift\n",
      "\n"
     ]
    }
   ],
   "source": [
    "library(tidyverse)\n",
    "library(magrittr)\n",
    "library(ggplot2)\n",
    "library(rscones2)\n",
    "library(caret)\n",
    "\n",
    "wd <- \"/bioinfo/users/hcliment/easyGWASCore/data/testing/scones/skat/\"\n",
    "\n",
    "pedBasename = paste0(wd, \"genotype\")\n",
    "phenoFile = paste0(wd, \"phenotype.txt\")\n",
    "netFile = paste0(wd, \"network.txt\")\n",
    "encoding = 0\n",
    "maf = 0.05\n",
    "\n",
    "d <- readBio(pedBasename, phenoFile, netFile, encoding, maf)\n",
    "\n",
    "SKAT <- 0\n",
    "CHISQ <- 1\n",
    "\n",
    "CONSISTENCY <- 1\n",
    "AICc <- 2"
   ]
  },
  {
   "cell_type": "markdown",
   "metadata": {},
   "source": [
    "We introduced the changes suggested in the previous notebook ie:\n",
    "\n",
    "* More exhaustive grid search.\n",
    "* Evaluation of the AICc.\n",
    "\n",
    "# More exhaustive grid search"
   ]
  },
  {
   "cell_type": "code",
   "execution_count": 2,
   "metadata": {
    "collapsed": true
   },
   "outputs": [],
   "source": [
    "truth <- runScones(d$X, d$Y, d$net, list())$indicator"
   ]
  },
  {
   "cell_type": "code",
   "execution_count": 3,
   "metadata": {
    "collapsed": false
   },
   "outputs": [],
   "source": [
    "# CONSISTENCY\n",
    "skat.cons.sets <- list(test_statistic = SKAT, gridsearch_depth = 3)\n",
    "skat.cons <- runScones(d$X, d$Y, d$net, skat.cons.sets)\n",
    "skat.cons.stats <- confusionMatrix(skat.cons$indicator, truth, positive = '1')\n",
    "\n",
    "# AICc\n",
    "skat.info.sets <- list(test_statistic = SKAT, gridsearch_depth = 3, selection_criterion = AICc)\n",
    "skat.info <- runScones(d$X, d$Y, d$net, skat.info.sets)\n",
    "skat.info.stats <- confusionMatrix(skat.info$indicator, truth, positive = '1')"
   ]
  },
  {
   "cell_type": "code",
   "execution_count": 4,
   "metadata": {
    "collapsed": false
   },
   "outputs": [
    {
     "data": {
      "text/html": [
       "0.65"
      ],
      "text/latex": [
       "0.65"
      ],
      "text/markdown": [
       "0.65"
      ],
      "text/plain": [
       "[1] 0.65"
      ]
     },
     "metadata": {},
     "output_type": "display_data"
    },
    {
     "data": {
      "text/html": [
       "0.991919191919192"
      ],
      "text/latex": [
       "0.991919191919192"
      ],
      "text/markdown": [
       "0.991919191919192"
      ],
      "text/plain": [
       "[1] 0.9919192"
      ]
     },
     "metadata": {},
     "output_type": "display_data"
    }
   ],
   "source": [
    "skat.cons.stats$byClass[[\"Balanced Accuracy\"]]\n",
    "skat.info.stats$byClass[[\"Balanced Accuracy\"]]"
   ]
  },
  {
   "cell_type": "code",
   "execution_count": 5,
   "metadata": {
    "collapsed": false
   },
   "outputs": [],
   "source": [
    "# CONSISTENCY\n",
    "chisq.cons.sets = list(test_statistic = CHISQ, gridsearch_depth = 3)\n",
    "chisq.cons <- runScones(d$X, d$Y, d$net, chisq.cons.sets)\n",
    "chisq.cons.stats <- confusionMatrix(chisq.cons$indicator, truth, positive = '1')\n",
    "\n",
    "# AICc\n",
    "chisq.sets = list(test_statistic = CHISQ, gridsearch_depth = 3, selection_criterion = AICc)\n",
    "chisq.info <- runScones(d$X, d$Y, d$net, chisq.sets)\n",
    "chisq.info.stats <- confusionMatrix(chisq.info$indicator, truth, positive = '1')"
   ]
  },
  {
   "cell_type": "code",
   "execution_count": 6,
   "metadata": {
    "collapsed": false
   },
   "outputs": [
    {
     "data": {
      "text/html": [
       "0.6"
      ],
      "text/latex": [
       "0.6"
      ],
      "text/markdown": [
       "0.6"
      ],
      "text/plain": [
       "[1] 0.6"
      ]
     },
     "metadata": {},
     "output_type": "display_data"
    },
    {
     "data": {
      "text/html": [
       "0.991919191919192"
      ],
      "text/latex": [
       "0.991919191919192"
      ],
      "text/markdown": [
       "0.991919191919192"
      ],
      "text/plain": [
       "[1] 0.9919192"
      ]
     },
     "metadata": {},
     "output_type": "display_data"
    }
   ],
   "source": [
    "chisq.cons.stats$byClass[[\"Balanced Accuracy\"]]\n",
    "chisq.info.stats$byClass[[\"Balanced Accuracy\"]]"
   ]
  },
  {
   "cell_type": "markdown",
   "metadata": {},
   "source": [
    "Clearly, the grid depth doesn't help for CONSISTENCY, as we are getting worse results than in [simplest_example_1.ipynb](simplest_example_1.ipynb) with only one iteration. However, it is working for AICc, and particularly in the CHISQ, where we almost get all the true positives."
   ]
  },
  {
   "cell_type": "code",
   "execution_count": 7,
   "metadata": {
    "collapsed": false
   },
   "outputs": [
    {
     "data": {},
     "metadata": {},
     "output_type": "display_data"
    },
    {
     "data": {
      "image/png": "[encoded data removed]",
      "text/plain": [
       "plot without title"
      ]
     },
     "metadata": {},
     "output_type": "display_data"
    }
   ],
   "source": [
    "data.frame(skat = skat.info$scores, chisq = chisq.info$scores, causal = chisq.info$indicator) %>%\n",
    "    mutate(Causal = ifelse(causal == 1, \"Yes\", \"No\")) %>%\n",
    "    ggplot(aes(x = skat, y = chisq)) +\n",
    "        geom_point(aes(color = Causal)) + \n",
    "        geom_smooth(method = lm, alpha = 0.5)"
   ]
  },
  {
   "cell_type": "markdown",
   "metadata": {},
   "source": [
    "Optimal lambda and eta were 0.218011627679128 and 13.0694537180034. What we are finding is"
   ]
  },
  {
   "cell_type": "code",
   "execution_count": 8,
   "metadata": {
    "collapsed": false
   },
   "outputs": [
    {
     "data": {
      "text/html": [
       "3.90041763284634"
      ],
      "text/latex": [
       "3.90041763284634"
      ],
      "text/markdown": [
       "3.90041763284634"
      ],
      "text/plain": [
       "[1] 3.900418"
      ]
     },
     "metadata": {},
     "output_type": "display_data"
    },
    {
     "data": {
      "text/html": [
       "5.58041717476997"
      ],
      "text/latex": [
       "5.58041717476997"
      ],
      "text/markdown": [
       "5.58041717476997"
      ],
      "text/plain": [
       "[1] 5.580417"
      ]
     },
     "metadata": {},
     "output_type": "display_data"
    }
   ],
   "source": [
    "chisq.info$lambda\n",
    "chisq.info$eta"
   ]
  },
  {
   "cell_type": "code",
   "execution_count": 9,
   "metadata": {
    "collapsed": false
   },
   "outputs": [
    {
     "data": {
      "text/html": [
       "1457.79243451978"
      ],
      "text/latex": [
       "1457.79243451978"
      ],
      "text/markdown": [
       "1457.79243451978"
      ],
      "text/plain": [
       "[1] 1457.792"
      ]
     },
     "metadata": {},
     "output_type": "display_data"
    },
    {
     "data": {
      "text/html": [
       "1393.61130124948"
      ],
      "text/latex": [
       "1393.61130124948"
      ],
      "text/markdown": [
       "1393.61130124948"
      ],
      "text/plain": [
       "[1] 1393.611"
      ]
     },
     "metadata": {},
     "output_type": "display_data"
    }
   ],
   "source": [
    "# \"best solution\"\n",
    "chisq.opt.sets <- list(test_statistic = CHISQ, lambdas = c(0.218011627679128), \n",
    "                       etas = c(13.0694537180034), autoParameters = FALSE)\n",
    "\n",
    "chisq <- runScones(d$X, d$Y, d$net, chisq.opt.sets)\n",
    "getRegressionStats(d$X[,which(as.logical(chisq$indicator))], d$Y)$AICc\n",
    "\n",
    "# AICc solution\n",
    "getRegressionStats(d$X[,which(as.logical(chisq.info$indicator))], d$Y)$AICc"
   ]
  },
  {
   "cell_type": "markdown",
   "metadata": {},
   "source": [
    "It seems that the new solution is more optimal according to AICc. For the moment, we can take it as a good approximation of reality."
   ]
  },
  {
   "cell_type": "code",
   "execution_count": 10,
   "metadata": {
    "collapsed": false
   },
   "outputs": [
    {
     "data": {
      "text/html": [
       "26"
      ],
      "text/latex": [
       "26"
      ],
      "text/markdown": [
       "26"
      ],
      "text/plain": [
       "[1] 26"
      ]
     },
     "metadata": {},
     "output_type": "display_data"
    },
    {
     "data": {
      "text/html": [
       "<ol class=list-inline>\n",
       "\t<li>677</li>\n",
       "\t<li>678</li>\n",
       "\t<li>679</li>\n",
       "\t<li>680</li>\n",
       "\t<li>681</li>\n",
       "\t<li>682</li>\n",
       "\t<li>683</li>\n",
       "\t<li>684</li>\n",
       "\t<li>685</li>\n",
       "\t<li>686</li>\n",
       "\t<li>687</li>\n",
       "\t<li>688</li>\n",
       "\t<li>689</li>\n",
       "\t<li>690</li>\n",
       "\t<li>691</li>\n",
       "\t<li>692</li>\n",
       "\t<li>693</li>\n",
       "\t<li>694</li>\n",
       "\t<li>695</li>\n",
       "\t<li>696</li>\n",
       "\t<li>697</li>\n",
       "\t<li>698</li>\n",
       "\t<li>699</li>\n",
       "\t<li>700</li>\n",
       "\t<li>701</li>\n",
       "\t<li>702</li>\n",
       "</ol>\n"
      ],
      "text/latex": [
       "\\begin{enumerate*}\n",
       "\\item 677\n",
       "\\item 678\n",
       "\\item 679\n",
       "\\item 680\n",
       "\\item 681\n",
       "\\item 682\n",
       "\\item 683\n",
       "\\item 684\n",
       "\\item 685\n",
       "\\item 686\n",
       "\\item 687\n",
       "\\item 688\n",
       "\\item 689\n",
       "\\item 690\n",
       "\\item 691\n",
       "\\item 692\n",
       "\\item 693\n",
       "\\item 694\n",
       "\\item 695\n",
       "\\item 696\n",
       "\\item 697\n",
       "\\item 698\n",
       "\\item 699\n",
       "\\item 700\n",
       "\\item 701\n",
       "\\item 702\n",
       "\\end{enumerate*}\n"
      ],
      "text/markdown": [
       "1. 677\n",
       "2. 678\n",
       "3. 679\n",
       "4. 680\n",
       "5. 681\n",
       "6. 682\n",
       "7. 683\n",
       "8. 684\n",
       "9. 685\n",
       "10. 686\n",
       "11. 687\n",
       "12. 688\n",
       "13. 689\n",
       "14. 690\n",
       "15. 691\n",
       "16. 692\n",
       "17. 693\n",
       "18. 694\n",
       "19. 695\n",
       "20. 696\n",
       "21. 697\n",
       "22. 698\n",
       "23. 699\n",
       "24. 700\n",
       "25. 701\n",
       "26. 702\n",
       "\n",
       "\n"
      ],
      "text/plain": [
       " [1] 677 678 679 680 681 682 683 684 685 686 687 688 689 690 691 692 693 694 695\n",
       "[20] 696 697 698 699 700 701 702"
      ]
     },
     "metadata": {},
     "output_type": "display_data"
    },
    {
     "data": {
      "text/html": [
       "10"
      ],
      "text/latex": [
       "10"
      ],
      "text/markdown": [
       "10"
      ],
      "text/plain": [
       "[1] 10"
      ]
     },
     "metadata": {},
     "output_type": "display_data"
    },
    {
     "data": {
      "text/html": [
       "<ol class=list-inline>\n",
       "\t<li>677</li>\n",
       "\t<li>680</li>\n",
       "\t<li>681</li>\n",
       "\t<li>683</li>\n",
       "\t<li>685</li>\n",
       "\t<li>686</li>\n",
       "\t<li>687</li>\n",
       "\t<li>691</li>\n",
       "\t<li>696</li>\n",
       "\t<li>697</li>\n",
       "</ol>\n"
      ],
      "text/latex": [
       "\\begin{enumerate*}\n",
       "\\item 677\n",
       "\\item 680\n",
       "\\item 681\n",
       "\\item 683\n",
       "\\item 685\n",
       "\\item 686\n",
       "\\item 687\n",
       "\\item 691\n",
       "\\item 696\n",
       "\\item 697\n",
       "\\end{enumerate*}\n"
      ],
      "text/markdown": [
       "1. 677\n",
       "2. 680\n",
       "3. 681\n",
       "4. 683\n",
       "5. 685\n",
       "6. 686\n",
       "7. 687\n",
       "8. 691\n",
       "9. 696\n",
       "10. 697\n",
       "\n",
       "\n"
      ],
      "text/plain": [
       " [1] 677 680 681 683 685 686 687 691 696 697"
      ]
     },
     "metadata": {},
     "output_type": "display_data"
    }
   ],
   "source": [
    "# found SNPs\n",
    "sum(chisq.info$indicator)\n",
    "which(as.logical(chisq.info$indicator))\n",
    "\n",
    "# causal SNPs\n",
    "sum(chisq$indicator)\n",
    "which(as.logical(chisq$indicator))"
   ]
  },
  {
   "cell_type": "markdown",
   "metadata": {},
   "source": [
    "The new solution involves includes all the true causal SNPs plus a set of nearby SNPs, which is not terrible."
   ]
  },
  {
   "cell_type": "markdown",
   "metadata": {},
   "source": [
    "\n",
    "# Comment on SCones consistency\n",
    "\n",
    "The solution for this example is composed of 10 SNPs that are in a gene. The CONSISTENCY criteria only considers those answers with, at most, 1% of the SNPs. Given that we are studying 1000 SNPs, there is a bias towards the right solution. In the AICc criteria we relaxed this restriction to 10% of the SNPs. Maybe that is the reason that we aren't finding the optimal solution. The following cells are run with a special compilation where this threshold for CONSISTENCY has been raised to 10% too."
   ]
  },
  {
   "cell_type": "code",
   "execution_count": 11,
   "metadata": {
    "collapsed": false
   },
   "outputs": [
    {
     "data": {
      "text/html": [
       "26"
      ],
      "text/latex": [
       "26"
      ],
      "text/markdown": [
       "26"
      ],
      "text/plain": [
       "[1] 26"
      ]
     },
     "metadata": {},
     "output_type": "display_data"
    },
    {
     "data": {
      "text/html": [
       "<ol class=list-inline>\n",
       "\t<li>677</li>\n",
       "\t<li>678</li>\n",
       "\t<li>679</li>\n",
       "\t<li>680</li>\n",
       "\t<li>681</li>\n",
       "\t<li>682</li>\n",
       "\t<li>683</li>\n",
       "\t<li>684</li>\n",
       "\t<li>685</li>\n",
       "\t<li>686</li>\n",
       "\t<li>687</li>\n",
       "\t<li>688</li>\n",
       "\t<li>689</li>\n",
       "\t<li>690</li>\n",
       "\t<li>691</li>\n",
       "\t<li>692</li>\n",
       "\t<li>693</li>\n",
       "\t<li>694</li>\n",
       "\t<li>695</li>\n",
       "\t<li>696</li>\n",
       "\t<li>697</li>\n",
       "\t<li>698</li>\n",
       "\t<li>699</li>\n",
       "\t<li>700</li>\n",
       "\t<li>701</li>\n",
       "\t<li>702</li>\n",
       "</ol>\n"
      ],
      "text/latex": [
       "\\begin{enumerate*}\n",
       "\\item 677\n",
       "\\item 678\n",
       "\\item 679\n",
       "\\item 680\n",
       "\\item 681\n",
       "\\item 682\n",
       "\\item 683\n",
       "\\item 684\n",
       "\\item 685\n",
       "\\item 686\n",
       "\\item 687\n",
       "\\item 688\n",
       "\\item 689\n",
       "\\item 690\n",
       "\\item 691\n",
       "\\item 692\n",
       "\\item 693\n",
       "\\item 694\n",
       "\\item 695\n",
       "\\item 696\n",
       "\\item 697\n",
       "\\item 698\n",
       "\\item 699\n",
       "\\item 700\n",
       "\\item 701\n",
       "\\item 702\n",
       "\\end{enumerate*}\n"
      ],
      "text/markdown": [
       "1. 677\n",
       "2. 678\n",
       "3. 679\n",
       "4. 680\n",
       "5. 681\n",
       "6. 682\n",
       "7. 683\n",
       "8. 684\n",
       "9. 685\n",
       "10. 686\n",
       "11. 687\n",
       "12. 688\n",
       "13. 689\n",
       "14. 690\n",
       "15. 691\n",
       "16. 692\n",
       "17. 693\n",
       "18. 694\n",
       "19. 695\n",
       "20. 696\n",
       "21. 697\n",
       "22. 698\n",
       "23. 699\n",
       "24. 700\n",
       "25. 701\n",
       "26. 702\n",
       "\n",
       "\n"
      ],
      "text/plain": [
       " [1] 677 678 679 680 681 682 683 684 685 686 687 688 689 690 691 692 693 694 695\n",
       "[20] 696 697 698 699 700 701 702"
      ]
     },
     "metadata": {},
     "output_type": "display_data"
    }
   ],
   "source": [
    "skat10 <- runScones(d$X, d$Y, d$net, list())\n",
    "\n",
    "sum(skat10$indicator)\n",
    "which(as.logical(skat10$indicator))"
   ]
  },
  {
   "cell_type": "markdown",
   "metadata": {},
   "source": [
    "The SNPs that are found are the same as in AICc. Hence, the gain in accuracy is due to this artificial constraint."
   ]
  }
 ],
 "metadata": {
  "kernelspec": {
   "display_name": "R",
   "language": "R",
   "name": "ir"
  },
  "language_info": {
   "codemirror_mode": "r",
   "file_extension": ".r",
   "mimetype": "text/x-r-source",
   "name": "R",
   "pygments_lexer": "r",
   "version": "3.3.2"
  }
 },
 "nbformat": 4,
 "nbformat_minor": 2
}
