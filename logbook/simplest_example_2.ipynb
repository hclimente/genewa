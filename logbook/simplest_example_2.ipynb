{
 "cells": [
  {
   "cell_type": "code",
   "execution_count": 1,
   "metadata": {
    "ExecuteTime": {
     "end_time": "2017-03-29T11:01:53.851322",
     "start_time": "2017-03-29T09:01:48.334Z"
    },
    "collapsed": false
   },
   "outputs": [
    {
     "name": "stderr",
     "output_type": "stream",
     "text": [
      "Loading tidyverse: ggplot2\n",
      "Loading tidyverse: tibble\n",
      "Loading tidyverse: tidyr\n",
      "Loading tidyverse: readr\n",
      "Loading tidyverse: purrr\n",
      "Loading tidyverse: dplyr\n",
      "Conflicts with tidy packages ---------------------------------------------------\n",
      "filter(): dplyr, stats\n",
      "lag():    dplyr, stats\n",
      "\n",
      "Attaching package: ‘magrittr’\n",
      "\n",
      "The following object is masked from ‘package:purrr’:\n",
      "\n",
      "    set_names\n",
      "\n",
      "The following object is masked from ‘package:tidyr’:\n",
      "\n",
      "    extract\n",
      "\n",
      "Loading required package: Matrix\n",
      "\n",
      "Attaching package: ‘Matrix’\n",
      "\n",
      "The following object is masked from ‘package:tidyr’:\n",
      "\n",
      "    expand\n",
      "\n",
      "Loading required package: lattice\n",
      "\n",
      "Attaching package: ‘caret’\n",
      "\n",
      "The following object is masked from ‘package:purrr’:\n",
      "\n",
      "    lift\n",
      "\n"
     ]
    }
   ],
   "source": [
    "library(tidyverse)\n",
    "library(magrittr)\n",
    "library(ggplot2)\n",
    "library(rscones2)\n",
    "library(caret)\n",
    "\n",
    "wd <- \"../datasets/scones1_ex/\"\n",
    "\n",
    "pedBasename = paste0(wd, \"genotype\")\n",
    "phenoFile = paste0(wd, \"phenotype.txt\")\n",
    "netFile = paste0(wd, \"network.txt\")\n",
    "encoding = 0\n",
    "maf = 0.05\n",
    "\n",
    "d <- readBio(pedBasename, phenoFile, netFile, encoding, maf)\n",
    "\n",
    "SKAT <- 0\n",
    "CHISQ <- 1\n",
    "\n",
    "CONSISTENCY <- 1\n",
    "AICc <- 2"
   ]
  },
  {
   "cell_type": "markdown",
   "metadata": {},
   "source": [
    "We introduced the changes suggested in the previous notebook ie:\n",
    "\n",
    "* More exhaustive grid search.\n",
    "* Evaluation of the AICc.\n",
    "\n",
    "# More exhaustive grid search"
   ]
  },
  {
   "cell_type": "code",
   "execution_count": 2,
   "metadata": {
    "ExecuteTime": {
     "end_time": "2017-03-29T11:00:15.279480",
     "start_time": "2017-03-29T09:00:08.531Z"
    },
    "collapsed": true
   },
   "outputs": [],
   "source": [
    "truth <- runScones(d$X, d$Y, d$net, list())$indicator"
   ]
  },
  {
   "cell_type": "markdown",
   "metadata": {},
   "source": [
    "## Effect on AICc and CONSISTENCY\n",
    "\n",
    "### On balanced accuracy\n",
    "\n",
    "We will use the balanced accuracy, which is the mean between sensitivity ie TP/P and specificity ie TN/N."
   ]
  },
  {
   "cell_type": "code",
   "execution_count": 3,
   "metadata": {
    "ExecuteTime": {
     "end_time": "2017-03-29T11:00:27.949602",
     "start_time": "2017-03-29T09:00:08.538Z"
    },
    "collapsed": false
   },
   "outputs": [],
   "source": [
    "# CONSISTENCY\n",
    "skat.cons.sets <- list(test_statistic = SKAT, \n",
    "                       gridsearch_depth = 3, \n",
    "                       selection_criterion = CONSISTENCY)\n",
    "skat.cons <- runScones(d$X, d$Y, d$net, skat.cons.sets)\n",
    "skat.cons.stats <- confusionMatrix(skat.cons$indicator, truth, positive = '1')\n",
    "\n",
    "# AICc\n",
    "skat.info.sets <- list(test_statistic = SKAT, \n",
    "                       gridsearch_depth = 3, \n",
    "                       selection_criterion = AICc)\n",
    "skat.info <- runScones(d$X, d$Y, d$net, skat.info.sets)\n",
    "skat.info.stats <- confusionMatrix(skat.info$indicator, truth, positive = '1')"
   ]
  },
  {
   "cell_type": "code",
   "execution_count": 4,
   "metadata": {
    "ExecuteTime": {
     "end_time": "2017-03-29T11:00:28.037315",
     "start_time": "2017-03-29T09:00:08.544Z"
    },
    "collapsed": false
   },
   "outputs": [
    {
     "data": {
      "text/html": [
       "0.666666666666667"
      ],
      "text/latex": [
       "0.666666666666667"
      ],
      "text/markdown": [
       "0.666666666666667"
      ],
      "text/plain": [
       "[1] 0.6666667"
      ]
     },
     "metadata": {},
     "output_type": "display_data"
    },
    {
     "data": {
      "text/html": [
       "0.991422805247225"
      ],
      "text/latex": [
       "0.991422805247225"
      ],
      "text/markdown": [
       "0.991422805247225"
      ],
      "text/plain": [
       "[1] 0.9914228"
      ]
     },
     "metadata": {},
     "output_type": "display_data"
    }
   ],
   "source": [
    "skat.cons.stats$byClass[[\"Balanced Accuracy\"]]\n",
    "skat.info.stats$byClass[[\"Balanced Accuracy\"]]"
   ]
  },
  {
   "cell_type": "code",
   "execution_count": 5,
   "metadata": {
    "ExecuteTime": {
     "end_time": "2017-03-29T11:00:40.863500",
     "start_time": "2017-03-29T09:00:08.549Z"
    },
    "collapsed": false
   },
   "outputs": [],
   "source": [
    "# CONSISTENCY\n",
    "chisq.cons.sets = list(test_statistic = CHISQ, \n",
    "                       gridsearch_depth = 3, \n",
    "                       selection_criterion = CONSISTENCY)\n",
    "chisq.cons <- runScones(d$X, d$Y, d$net, chisq.cons.sets)\n",
    "chisq.cons.stats <- confusionMatrix(chisq.cons$indicator, truth, positive = '1')\n",
    "\n",
    "# AICc\n",
    "chisq.sets = list(test_statistic = CHISQ, \n",
    "                  gridsearch_depth = 3, \n",
    "                  selection_criterion = AICc)\n",
    "chisq.info <- runScones(d$X, d$Y, d$net, chisq.sets)\n",
    "chisq.info.stats <- confusionMatrix(chisq.info$indicator, truth, positive = '1')"
   ]
  },
  {
   "cell_type": "code",
   "execution_count": 6,
   "metadata": {
    "ExecuteTime": {
     "end_time": "2017-03-29T11:00:40.929774",
     "start_time": "2017-03-29T09:00:08.559Z"
    },
    "collapsed": false
   },
   "outputs": [
    {
     "data": {
      "text/html": [
       "0.611111111111111"
      ],
      "text/latex": [
       "0.611111111111111"
      ],
      "text/markdown": [
       "0.611111111111111"
      ],
      "text/plain": [
       "[1] 0.6111111"
      ]
     },
     "metadata": {},
     "output_type": "display_data"
    },
    {
     "data": {
      "text/html": [
       "0.991422805247225"
      ],
      "text/latex": [
       "0.991422805247225"
      ],
      "text/markdown": [
       "0.991422805247225"
      ],
      "text/plain": [
       "[1] 0.9914228"
      ]
     },
     "metadata": {},
     "output_type": "display_data"
    }
   ],
   "source": [
    "chisq.cons.stats$byClass[[\"Balanced Accuracy\"]]\n",
    "chisq.info.stats$byClass[[\"Balanced Accuracy\"]]"
   ]
  },
  {
   "cell_type": "markdown",
   "metadata": {},
   "source": [
    "Clearly, the grid depth doesn't help for CONSISTENCY, as we are getting worse results than in [simplest_example_1.ipynb](simplest_example_1.ipynb) with only one iteration. However, it is working for AICc, and particularly in the CHISQ, where the increase is greater."
   ]
  },
  {
   "cell_type": "code",
   "execution_count": 7,
   "metadata": {
    "ExecuteTime": {
     "end_time": "2017-03-29T11:00:41.855497",
     "start_time": "2017-03-29T09:00:08.566Z"
    },
    "collapsed": false
   },
   "outputs": [
    {
     "data": {},
     "metadata": {},
     "output_type": "display_data"
    },
    {
     "data": {
      "text/html": [
       "26"
      ],
      "text/latex": [
       "26"
      ],
      "text/markdown": [
       "26"
      ],
      "text/plain": [
       "[1] 26"
      ]
     },
     "metadata": {},
     "output_type": "display_data"
    },
    {
     "data": {
      "image/png": "[encoded data removed]",
      "text/plain": [
       "plot without title"
      ]
     },
     "metadata": {},
     "output_type": "display_data"
    }
   ],
   "source": [
    "data.frame(skat = skat.info$scores, chisq = chisq.info$scores, causal = chisq.info$indicator) %>%\n",
    "    mutate(Causal = ifelse(causal == 1, \"Yes\", \"No\")) %>%\n",
    "    arrange(Causal) %>%\n",
    "    ggplot(aes(x = skat, y = chisq)) +\n",
    "        geom_point(aes(color = Causal)) + \n",
    "        geom_smooth(method = lm, alpha = 0.5) +\n",
    "        labs(title = \"Positives CHISQ AICc\")\n",
    "\n",
    "# number of positives\n",
    "sum(chisq.info$indicator)"
   ]
  },
  {
   "cell_type": "markdown",
   "metadata": {},
   "source": [
    "### Parameter selection"
   ]
  },
  {
   "cell_type": "markdown",
   "metadata": {},
   "source": [
    "Optimal lambda and eta were 0.218011627679128 and 13.0694537180034. What we are finding is"
   ]
  },
  {
   "cell_type": "code",
   "execution_count": 8,
   "metadata": {
    "ExecuteTime": {
     "end_time": "2017-03-29T11:00:41.962137",
     "start_time": "2017-03-29T09:00:08.572Z"
    },
    "collapsed": false
   },
   "outputs": [
    {
     "data": {
      "text/html": [
       "3.90041763284634"
      ],
      "text/latex": [
       "3.90041763284634"
      ],
      "text/markdown": [
       "3.90041763284634"
      ],
      "text/plain": [
       "[1] 3.900418"
      ]
     },
     "metadata": {},
     "output_type": "display_data"
    },
    {
     "data": {
      "text/html": [
       "5.58041717476997"
      ],
      "text/latex": [
       "5.58041717476997"
      ],
      "text/markdown": [
       "5.58041717476997"
      ],
      "text/plain": [
       "[1] 5.580417"
      ]
     },
     "metadata": {},
     "output_type": "display_data"
    }
   ],
   "source": [
    "chisq.info$lambda\n",
    "chisq.info$eta"
   ]
  },
  {
   "cell_type": "code",
   "execution_count": 9,
   "metadata": {
    "ExecuteTime": {
     "end_time": "2017-03-29T11:00:42.305158",
     "start_time": "2017-03-29T09:00:08.577Z"
    },
    "collapsed": false
   },
   "outputs": [
    {
     "data": {
      "text/html": [
       "1457.79243451978"
      ],
      "text/latex": [
       "1457.79243451978"
      ],
      "text/markdown": [
       "1457.79243451978"
      ],
      "text/plain": [
       "[1] 1457.792"
      ]
     },
     "metadata": {},
     "output_type": "display_data"
    },
    {
     "data": {
      "text/html": [
       "1393.61130124948"
      ],
      "text/latex": [
       "1393.61130124948"
      ],
      "text/markdown": [
       "1393.61130124948"
      ],
      "text/plain": [
       "[1] 1393.611"
      ]
     },
     "metadata": {},
     "output_type": "display_data"
    }
   ],
   "source": [
    "# \"best solution\"\n",
    "best.opt.sets <- list(test_statistic = CHISQ, \n",
    "                       lambdas = c(0.218011627679128), \n",
    "                       etas = c(13.0694537180034), \n",
    "                       autoParameters = FALSE)\n",
    "\n",
    "best <- runScones(d$X, d$Y, d$net, best.opt.sets)\n",
    "best.stats <- getRegressionStats(d$X[,which(as.logical(best$indicator))], d$Y)\n",
    "best.stats$AICc\n",
    "\n",
    "# AICc solution\n",
    "chisq.info.stats <- getRegressionStats(d$X[,which(as.logical(chisq.info$indicator))], d$Y)\n",
    "chisq.info.stats$AICc"
   ]
  },
  {
   "cell_type": "markdown",
   "metadata": {},
   "source": [
    "It seems that the new solution is more optimal according to AICc. For the moment, we can take it as a good approximation of reality. It seems counterintuitive though that a more sparse solution gets a worse AICc than the other solution."
   ]
  },
  {
   "cell_type": "code",
   "execution_count": 10,
   "metadata": {
    "ExecuteTime": {
     "end_time": "2017-03-29T11:00:42.362181",
     "start_time": "2017-03-29T09:00:08.582Z"
    },
    "collapsed": false
   },
   "outputs": [
    {
     "name": "stdout",
     "output_type": "stream",
     "text": [
      "1435.251 + 20 + 0.4498978 \n",
      "1336.408 + 52 + 2.968288 \n"
     ]
    }
   ],
   "source": [
    "best.p <- sum(best$indicator)\n",
    "best.c <- sum(chisq.info$indicator)\n",
    "n <- length(d$Y)\n",
    "cat(-2 * best.stats$logLikelihood, \"+\", \n",
    "    2 * sum(best$indicator), \"+\", \n",
    "    (2 * best.p * ( best.p + 1)) / (n - best.p - 1), \"\\n\")\n",
    "cat(-2 * chisq.info.stats$logLikelihood, \"+\", \n",
    "    2 * sum(chisq.info$indicator), \"+\", \n",
    "    (2 * best.c * ( best.c + 1)) / (n - best.c - 1), \"\\n\")"
   ]
  },
  {
   "cell_type": "markdown",
   "metadata": {},
   "source": [
    "We are picking the second model because the likelihood is higher which, in this context, means we are having some overfitting. Additionally, it seems that the effect of correction is neglibible. Maybe we can penalize higher the model complexity, using BIC instead."
   ]
  },
  {
   "cell_type": "code",
   "execution_count": 11,
   "metadata": {
    "ExecuteTime": {
     "end_time": "2017-03-29T11:00:42.442617",
     "start_time": "2017-03-29T09:00:08.590Z"
    },
    "collapsed": false
   },
   "outputs": [
    {
     "data": {
      "text/html": [
       "26"
      ],
      "text/latex": [
       "26"
      ],
      "text/markdown": [
       "26"
      ],
      "text/plain": [
       "[1] 26"
      ]
     },
     "metadata": {},
     "output_type": "display_data"
    },
    {
     "data": {
      "text/html": [
       "<ol class=list-inline>\n",
       "\t<li>677</li>\n",
       "\t<li>678</li>\n",
       "\t<li>679</li>\n",
       "\t<li>680</li>\n",
       "\t<li>681</li>\n",
       "\t<li>682</li>\n",
       "\t<li>683</li>\n",
       "\t<li>684</li>\n",
       "\t<li>685</li>\n",
       "\t<li>686</li>\n",
       "\t<li>687</li>\n",
       "\t<li>688</li>\n",
       "\t<li>689</li>\n",
       "\t<li>690</li>\n",
       "\t<li>691</li>\n",
       "\t<li>692</li>\n",
       "\t<li>693</li>\n",
       "\t<li>694</li>\n",
       "\t<li>695</li>\n",
       "\t<li>696</li>\n",
       "\t<li>697</li>\n",
       "\t<li>698</li>\n",
       "\t<li>699</li>\n",
       "\t<li>700</li>\n",
       "\t<li>701</li>\n",
       "\t<li>702</li>\n",
       "</ol>\n"
      ],
      "text/latex": [
       "\\begin{enumerate*}\n",
       "\\item 677\n",
       "\\item 678\n",
       "\\item 679\n",
       "\\item 680\n",
       "\\item 681\n",
       "\\item 682\n",
       "\\item 683\n",
       "\\item 684\n",
       "\\item 685\n",
       "\\item 686\n",
       "\\item 687\n",
       "\\item 688\n",
       "\\item 689\n",
       "\\item 690\n",
       "\\item 691\n",
       "\\item 692\n",
       "\\item 693\n",
       "\\item 694\n",
       "\\item 695\n",
       "\\item 696\n",
       "\\item 697\n",
       "\\item 698\n",
       "\\item 699\n",
       "\\item 700\n",
       "\\item 701\n",
       "\\item 702\n",
       "\\end{enumerate*}\n"
      ],
      "text/markdown": [
       "1. 677\n",
       "2. 678\n",
       "3. 679\n",
       "4. 680\n",
       "5. 681\n",
       "6. 682\n",
       "7. 683\n",
       "8. 684\n",
       "9. 685\n",
       "10. 686\n",
       "11. 687\n",
       "12. 688\n",
       "13. 689\n",
       "14. 690\n",
       "15. 691\n",
       "16. 692\n",
       "17. 693\n",
       "18. 694\n",
       "19. 695\n",
       "20. 696\n",
       "21. 697\n",
       "22. 698\n",
       "23. 699\n",
       "24. 700\n",
       "25. 701\n",
       "26. 702\n",
       "\n",
       "\n"
      ],
      "text/plain": [
       " [1] 677 678 679 680 681 682 683 684 685 686 687 688 689 690 691 692 693 694 695\n",
       "[20] 696 697 698 699 700 701 702"
      ]
     },
     "metadata": {},
     "output_type": "display_data"
    },
    {
     "data": {
      "text/html": [
       "10"
      ],
      "text/latex": [
       "10"
      ],
      "text/markdown": [
       "10"
      ],
      "text/plain": [
       "[1] 10"
      ]
     },
     "metadata": {},
     "output_type": "display_data"
    },
    {
     "data": {
      "text/html": [
       "<ol class=list-inline>\n",
       "\t<li>677</li>\n",
       "\t<li>680</li>\n",
       "\t<li>681</li>\n",
       "\t<li>683</li>\n",
       "\t<li>685</li>\n",
       "\t<li>686</li>\n",
       "\t<li>687</li>\n",
       "\t<li>691</li>\n",
       "\t<li>696</li>\n",
       "\t<li>697</li>\n",
       "</ol>\n"
      ],
      "text/latex": [
       "\\begin{enumerate*}\n",
       "\\item 677\n",
       "\\item 680\n",
       "\\item 681\n",
       "\\item 683\n",
       "\\item 685\n",
       "\\item 686\n",
       "\\item 687\n",
       "\\item 691\n",
       "\\item 696\n",
       "\\item 697\n",
       "\\end{enumerate*}\n"
      ],
      "text/markdown": [
       "1. 677\n",
       "2. 680\n",
       "3. 681\n",
       "4. 683\n",
       "5. 685\n",
       "6. 686\n",
       "7. 687\n",
       "8. 691\n",
       "9. 696\n",
       "10. 697\n",
       "\n",
       "\n"
      ],
      "text/plain": [
       " [1] 677 680 681 683 685 686 687 691 696 697"
      ]
     },
     "metadata": {},
     "output_type": "display_data"
    }
   ],
   "source": [
    "# found SNPs\n",
    "sum(chisq.info$indicator)\n",
    "which(as.logical(chisq.info$indicator))\n",
    "\n",
    "# causal SNPs\n",
    "sum(best$indicator)\n",
    "which(as.logical(best$indicator))"
   ]
  },
  {
   "cell_type": "markdown",
   "metadata": {},
   "source": [
    "The new solution involves includes all the true causal SNPs plus a set of nearby SNPs, which is not terrible. As we see, and the parameters let go, we would need to enforce more sparsity in comparison to connectivity."
   ]
  },
  {
   "cell_type": "markdown",
   "metadata": {},
   "source": [
    "\n",
    "# Comment on SCones consistency\n",
    "\n",
    "The solution for this example is composed of 10 SNPs that are in a gene. The CONSISTENCY criteria only considers those answers with, at most, 1% of the SNPs. Given that we are studying 1000 SNPs, there is a bias towards the right solution. In the AICc criteria we relaxed this restriction to 10% of the SNPs. Maybe that is the reason that we aren't finding the optimal solution. The following cells are run with a special compilation where this threshold for CONSISTENCY has been raised to 10% too."
   ]
  },
  {
   "cell_type": "code",
   "execution_count": 2,
   "metadata": {
    "ExecuteTime": {
     "end_time": "2017-03-29T11:02:03.750626",
     "start_time": "2017-03-29T09:01:59.525Z"
    },
    "collapsed": false
   },
   "outputs": [
    {
     "data": {
      "text/html": [
       "26"
      ],
      "text/latex": [
       "26"
      ],
      "text/markdown": [
       "26"
      ],
      "text/plain": [
       "[1] 26"
      ]
     },
     "metadata": {},
     "output_type": "display_data"
    },
    {
     "data": {
      "text/html": [
       "<ol class=list-inline>\n",
       "\t<li>677</li>\n",
       "\t<li>678</li>\n",
       "\t<li>679</li>\n",
       "\t<li>680</li>\n",
       "\t<li>681</li>\n",
       "\t<li>682</li>\n",
       "\t<li>683</li>\n",
       "\t<li>684</li>\n",
       "\t<li>685</li>\n",
       "\t<li>686</li>\n",
       "\t<li>687</li>\n",
       "\t<li>688</li>\n",
       "\t<li>689</li>\n",
       "\t<li>690</li>\n",
       "\t<li>691</li>\n",
       "\t<li>692</li>\n",
       "\t<li>693</li>\n",
       "\t<li>694</li>\n",
       "\t<li>695</li>\n",
       "\t<li>696</li>\n",
       "\t<li>697</li>\n",
       "\t<li>698</li>\n",
       "\t<li>699</li>\n",
       "\t<li>700</li>\n",
       "\t<li>701</li>\n",
       "\t<li>702</li>\n",
       "</ol>\n"
      ],
      "text/latex": [
       "\\begin{enumerate*}\n",
       "\\item 677\n",
       "\\item 678\n",
       "\\item 679\n",
       "\\item 680\n",
       "\\item 681\n",
       "\\item 682\n",
       "\\item 683\n",
       "\\item 684\n",
       "\\item 685\n",
       "\\item 686\n",
       "\\item 687\n",
       "\\item 688\n",
       "\\item 689\n",
       "\\item 690\n",
       "\\item 691\n",
       "\\item 692\n",
       "\\item 693\n",
       "\\item 694\n",
       "\\item 695\n",
       "\\item 696\n",
       "\\item 697\n",
       "\\item 698\n",
       "\\item 699\n",
       "\\item 700\n",
       "\\item 701\n",
       "\\item 702\n",
       "\\end{enumerate*}\n"
      ],
      "text/markdown": [
       "1. 677\n",
       "2. 678\n",
       "3. 679\n",
       "4. 680\n",
       "5. 681\n",
       "6. 682\n",
       "7. 683\n",
       "8. 684\n",
       "9. 685\n",
       "10. 686\n",
       "11. 687\n",
       "12. 688\n",
       "13. 689\n",
       "14. 690\n",
       "15. 691\n",
       "16. 692\n",
       "17. 693\n",
       "18. 694\n",
       "19. 695\n",
       "20. 696\n",
       "21. 697\n",
       "22. 698\n",
       "23. 699\n",
       "24. 700\n",
       "25. 701\n",
       "26. 702\n",
       "\n",
       "\n"
      ],
      "text/plain": [
       " [1] 677 678 679 680 681 682 683 684 685 686 687 688 689 690 691 692 693 694 695\n",
       "[20] 696 697 698 699 700 701 702"
      ]
     },
     "metadata": {},
     "output_type": "display_data"
    }
   ],
   "source": [
    "skat10 <- runScones(d$X, d$Y, d$net, list())\n",
    "\n",
    "sum(skat10$indicator)\n",
    "which(as.logical(skat10$indicator))"
   ]
  },
  {
   "cell_type": "markdown",
   "metadata": {},
   "source": [
    "The SNPs that are found are the same as in AICc. Hence, the gain in accuracy is due to this artificial constraint."
   ]
  }
 ],
 "metadata": {
  "kernelspec": {
   "display_name": "R",
   "language": "R",
   "name": "ir"
  },
  "language_info": {
   "codemirror_mode": "r",
   "file_extension": ".r",
   "mimetype": "text/x-r-source",
   "name": "R",
   "pygments_lexer": "r",
   "version": "3.3.2"
  }
 },
 "nbformat": 4,
 "nbformat_minor": 2
}
