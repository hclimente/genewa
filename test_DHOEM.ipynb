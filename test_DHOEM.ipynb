{
 "cells": [
  {
   "cell_type": "markdown",
   "metadata": {},
   "source": [
    "Purpose: DHOEM densifies (or loosen) a real SNP marker data set by performing statistical learning on local characteristics of the data.\n",
    "\n",
    "# Examples\n",
    "\n",
    "Use example from Examples_DHOEM.R"
   ]
  },
  {
   "cell_type": "code",
   "execution_count": 3,
   "metadata": {
    "ExecuteTime": {
     "end_time": "2016-10-06T10:51:27.601371",
     "start_time": "2016-10-06T08:51:27.515Z"
    },
    "collapsed": false
   },
   "outputs": [],
   "source": [
    "# Preliminary remark: all the data sets are in the 'Data folder' \n",
    "# (684 haplotypes with 8336 SNP for 12 chromosomes, for which 7924 SNP have MAF>1%)\n",
    "\n",
    "# Clear memory and set seed\n",
    "rm(list=ls())\n",
    "set.seed(123)\n",
    "\n",
    "setwd('~/simulations/libs/DHOEM/Source_codes/')\n",
    "source('DHOEM.R')\n",
    "source('Calcul_corr_bernoulli_vector.R')\n",
    "source('Suppression_SNP_MAF_inf_limit.R')"
   ]
  },
  {
   "cell_type": "markdown",
   "metadata": {},
   "source": [
    "## Example 1: calling DHOEM in order to densify an existing real marker data set"
   ]
  },
  {
   "cell_type": "code",
   "execution_count": 5,
   "metadata": {
    "ExecuteTime": {
     "end_time": "2016-10-06T11:05:42.828461",
     "start_time": "2016-10-06T08:52:54.571Z"
    },
    "collapsed": false
   },
   "outputs": [],
   "source": [
    "#Calling DHOEM\n",
    "New_data = DHOEM('Haplotype_file.txt', 'Physical_map_file.txt', 'Physical_map_centromeres_file.txt',\n",
    "                 Average_length_Kb_centromeres_low_SNP_coverage=1000, Nb_chromosomes=12, MAF_limit_for_all_SNP=0.01,\n",
    "                 Nb_more_less_SNP_per_chromo_per_run=50, New_minimum_maximum_nb_SNP_specified=20000 )"
   ]
  },
  {
   "cell_type": "code",
   "execution_count": 6,
   "metadata": {
    "ExecuteTime": {
     "end_time": "2016-10-06T11:05:42.962601",
     "start_time": "2016-10-06T08:52:56.987Z"
    },
    "collapsed": false
   },
   "outputs": [
    {
     "data": {
      "text/html": [
       "<ol class=list-inline>\n",
       "\t<li>684</li>\n",
       "\t<li>21124</li>\n",
       "</ol>\n"
      ],
      "text/latex": [
       "\\begin{enumerate*}\n",
       "\\item 684\n",
       "\\item 21124\n",
       "\\end{enumerate*}\n"
      ],
      "text/markdown": [
       "1. 684\n",
       "2. 21124\n",
       "\n",
       "\n"
      ],
      "text/plain": [
       "[1]   684 21124"
      ]
     },
     "metadata": {},
     "output_type": "display_data"
    },
    {
     "data": {
      "text/html": [
       "<ol class=list-inline>\n",
       "\t<li>342</li>\n",
       "\t<li>21124</li>\n",
       "</ol>\n"
      ],
      "text/latex": [
       "\\begin{enumerate*}\n",
       "\\item 342\n",
       "\\item 21124\n",
       "\\end{enumerate*}\n"
      ],
      "text/markdown": [
       "1. 342\n",
       "2. 21124\n",
       "\n",
       "\n"
      ],
      "text/plain": [
       "[1]   342 21124"
      ]
     },
     "metadata": {},
     "output_type": "display_data"
    },
    {
     "data": {
      "text/html": [
       "<ol class=list-inline>\n",
       "\t<li>21124</li>\n",
       "\t<li>3</li>\n",
       "</ol>\n"
      ],
      "text/latex": [
       "\\begin{enumerate*}\n",
       "\\item 21124\n",
       "\\item 3\n",
       "\\end{enumerate*}\n"
      ],
      "text/markdown": [
       "1. 21124\n",
       "2. 3\n",
       "\n",
       "\n"
      ],
      "text/plain": [
       "[1] 21124     3"
      ]
     },
     "metadata": {},
     "output_type": "display_data"
    },
    {
     "data": {
      "text/html": [
       "<table>\n",
       "<tbody>\n",
       "\t<tr><td>21114.0</td><td>   12.0</td><td>27502.5</td></tr>\n",
       "\t<tr><td>21115.00</td><td>   12.00</td><td>27502.54</td></tr>\n",
       "\t<tr><td>21116.00</td><td>   12.00</td><td>27502.68</td></tr>\n",
       "\t<tr><td>21117.00</td><td>   12.00</td><td>27502.77</td></tr>\n",
       "\t<tr><td>21118.00</td><td>   12.00</td><td>27502.81</td></tr>\n",
       "\t<tr><td>21119.00</td><td>   12.00</td><td>27502.89</td></tr>\n",
       "\t<tr><td>21120.00</td><td>   12.00</td><td>27504.74</td></tr>\n",
       "\t<tr><td>21121.00</td><td>   12.00</td><td>27504.76</td></tr>\n",
       "\t<tr><td>21122.00</td><td>   12.00</td><td>27504.79</td></tr>\n",
       "\t<tr><td>21123.00</td><td>   12.00</td><td>27504.82</td></tr>\n",
       "\t<tr><td>21124.00</td><td>   12.00</td><td>27504.82</td></tr>\n",
       "</tbody>\n",
       "</table>\n"
      ],
      "text/latex": [
       "\\begin{tabular}{lll}\n",
       "\t 21114.0 &    12.0 & 27502.5\\\\\n",
       "\t 21115.00 &    12.00 & 27502.54\\\\\n",
       "\t 21116.00 &    12.00 & 27502.68\\\\\n",
       "\t 21117.00 &    12.00 & 27502.77\\\\\n",
       "\t 21118.00 &    12.00 & 27502.81\\\\\n",
       "\t 21119.00 &    12.00 & 27502.89\\\\\n",
       "\t 21120.00 &    12.00 & 27504.74\\\\\n",
       "\t 21121.00 &    12.00 & 27504.76\\\\\n",
       "\t 21122.00 &    12.00 & 27504.79\\\\\n",
       "\t 21123.00 &    12.00 & 27504.82\\\\\n",
       "\t 21124.00 &    12.00 & 27504.82\\\\\n",
       "\\end{tabular}\n"
      ],
      "text/markdown": [
       "1. 21114\n",
       "2. 21115\n",
       "3. 21116\n",
       "4. 21117\n",
       "5. 21118\n",
       "6. 21119\n",
       "7. 21120\n",
       "8. 21121\n",
       "9. 21122\n",
       "10. 21123\n",
       "11. 21124\n",
       "12. 12\n",
       "13. 12\n",
       "14. 12\n",
       "15. 12\n",
       "16. 12\n",
       "17. 12\n",
       "18. 12\n",
       "19. 12\n",
       "20. 12\n",
       "21. 12\n",
       "22. 12\n",
       "23. 27502.4960451427\n",
       "24. 27502.5360830465\n",
       "25. 27502.6815569327\n",
       "26. 27502.7716312991\n",
       "27. 27502.8147270783\n",
       "28. 27502.8890659971\n",
       "29. 27504.738\n",
       "30. 27504.7603169699\n",
       "31. 27504.7874759238\n",
       "32. 27504.8165617667\n",
       "33. 27504.824\n",
       "\n",
       "\n"
      ],
      "text/plain": [
       "       [,1] [,2]     [,3]\n",
       " [1,] 21114   12 27502.50\n",
       " [2,] 21115   12 27502.54\n",
       " [3,] 21116   12 27502.68\n",
       " [4,] 21117   12 27502.77\n",
       " [5,] 21118   12 27502.81\n",
       " [6,] 21119   12 27502.89\n",
       " [7,] 21120   12 27504.74\n",
       " [8,] 21121   12 27504.76\n",
       " [9,] 21122   12 27504.79\n",
       "[10,] 21123   12 27504.82\n",
       "[11,] 21124   12 27504.82"
      ]
     },
     "metadata": {},
     "output_type": "display_data"
    },
    {
     "data": {
      "text/html": [
       "<table>\n",
       "<tbody>\n",
       "\t<tr><td>0</td><td>0</td><td>1</td><td>0</td><td>0</td><td>0</td><td>0</td><td>0</td><td>0</td><td>0</td><td>0</td></tr>\n",
       "\t<tr><td>0</td><td>0</td><td>0</td><td>0</td><td>0</td><td>1</td><td>0</td><td>0</td><td>0</td><td>0</td><td>0</td></tr>\n",
       "\t<tr><td>0</td><td>0</td><td>0</td><td>0</td><td>0</td><td>1</td><td>0</td><td>0</td><td>0</td><td>0</td><td>0</td></tr>\n",
       "\t<tr><td>0</td><td>0</td><td>0</td><td>0</td><td>0</td><td>1</td><td>0</td><td>0</td><td>0</td><td>0</td><td>0</td></tr>\n",
       "\t<tr><td>0</td><td>0</td><td>1</td><td>0</td><td>0</td><td>1</td><td>0</td><td>1</td><td>0</td><td>0</td><td>0</td></tr>\n",
       "\t<tr><td>1</td><td>1</td><td>0</td><td>1</td><td>0</td><td>0</td><td>0</td><td>0</td><td>1</td><td>0</td><td>0</td></tr>\n",
       "\t<tr><td>0</td><td>0</td><td>1</td><td>0</td><td>0</td><td>1</td><td>0</td><td>1</td><td>1</td><td>0</td><td>0</td></tr>\n",
       "\t<tr><td>0</td><td>0</td><td>1</td><td>0</td><td>0</td><td>1</td><td>0</td><td>0</td><td>0</td><td>0</td><td>0</td></tr>\n",
       "\t<tr><td>0</td><td>0</td><td>0</td><td>0</td><td>0</td><td>1</td><td>0</td><td>0</td><td>1</td><td>0</td><td>0</td></tr>\n",
       "\t<tr><td>0</td><td>0</td><td>0</td><td>0</td><td>0</td><td>1</td><td>0</td><td>0</td><td>1</td><td>0</td><td>0</td></tr>\n",
       "\t<tr><td>0</td><td>0</td><td>1</td><td>0</td><td>0</td><td>1</td><td>0</td><td>0</td><td>0</td><td>0</td><td>0</td></tr>\n",
       "</tbody>\n",
       "</table>\n"
      ],
      "text/latex": [
       "\\begin{tabular}{lllllllllll}\n",
       "\t 0 & 0 & 1 & 0 & 0 & 0 & 0 & 0 & 0 & 0 & 0\\\\\n",
       "\t 0 & 0 & 0 & 0 & 0 & 1 & 0 & 0 & 0 & 0 & 0\\\\\n",
       "\t 0 & 0 & 0 & 0 & 0 & 1 & 0 & 0 & 0 & 0 & 0\\\\\n",
       "\t 0 & 0 & 0 & 0 & 0 & 1 & 0 & 0 & 0 & 0 & 0\\\\\n",
       "\t 0 & 0 & 1 & 0 & 0 & 1 & 0 & 1 & 0 & 0 & 0\\\\\n",
       "\t 1 & 1 & 0 & 1 & 0 & 0 & 0 & 0 & 1 & 0 & 0\\\\\n",
       "\t 0 & 0 & 1 & 0 & 0 & 1 & 0 & 1 & 1 & 0 & 0\\\\\n",
       "\t 0 & 0 & 1 & 0 & 0 & 1 & 0 & 0 & 0 & 0 & 0\\\\\n",
       "\t 0 & 0 & 0 & 0 & 0 & 1 & 0 & 0 & 1 & 0 & 0\\\\\n",
       "\t 0 & 0 & 0 & 0 & 0 & 1 & 0 & 0 & 1 & 0 & 0\\\\\n",
       "\t 0 & 0 & 1 & 0 & 0 & 1 & 0 & 0 & 0 & 0 & 0\\\\\n",
       "\\end{tabular}\n"
      ],
      "text/markdown": [
       "1. 0\n",
       "2. 0\n",
       "3. 0\n",
       "4. 0\n",
       "5. 0\n",
       "6. 1\n",
       "7. 0\n",
       "8. 0\n",
       "9. 0\n",
       "10. 0\n",
       "11. 0\n",
       "12. 0\n",
       "13. 0\n",
       "14. 0\n",
       "15. 0\n",
       "16. 0\n",
       "17. 1\n",
       "18. 0\n",
       "19. 0\n",
       "20. 0\n",
       "21. 0\n",
       "22. 0\n",
       "23. 1\n",
       "24. 0\n",
       "25. 0\n",
       "26. 0\n",
       "27. 1\n",
       "28. 0\n",
       "29. 1\n",
       "30. 1\n",
       "31. 0\n",
       "32. 0\n",
       "33. 1\n",
       "34. 0\n",
       "35. 0\n",
       "36. 0\n",
       "37. 0\n",
       "38. 0\n",
       "39. 1\n",
       "40. 0\n",
       "41. 0\n",
       "42. 0\n",
       "43. 0\n",
       "44. 0\n",
       "45. 0\n",
       "46. 0\n",
       "47. 0\n",
       "48. 0\n",
       "49. 0\n",
       "50. 0\n",
       "51. 0\n",
       "52. 0\n",
       "53. 0\n",
       "54. 0\n",
       "55. 0\n",
       "56. 0\n",
       "57. 1\n",
       "58. 1\n",
       "59. 1\n",
       "60. 1\n",
       "61. 0\n",
       "62. 1\n",
       "63. 1\n",
       "64. 1\n",
       "65. 1\n",
       "66. 1\n",
       "67. 0\n",
       "68. 0\n",
       "69. 0\n",
       "70. 0\n",
       "71. 0\n",
       "72. 0\n",
       "73. 0\n",
       "74. 0\n",
       "75. 0\n",
       "76. 0\n",
       "77. 0\n",
       "78. 0\n",
       "79. 0\n",
       "80. 0\n",
       "81. 0\n",
       "82. 1\n",
       "83. 0\n",
       "84. 1\n",
       "85. 0\n",
       "86. 0\n",
       "87. 0\n",
       "88. 0\n",
       "89. 0\n",
       "90. 0\n",
       "91. 0\n",
       "92. 0\n",
       "93. 0\n",
       "94. 1\n",
       "95. 1\n",
       "96. 0\n",
       "97. 1\n",
       "98. 1\n",
       "99. 0\n",
       "100. 0\n",
       "101. 0\n",
       "102. 0\n",
       "103. 0\n",
       "104. 0\n",
       "105. 0\n",
       "106. 0\n",
       "107. 0\n",
       "108. 0\n",
       "109. 0\n",
       "110. 0\n",
       "111. 0\n",
       "112. 0\n",
       "113. 0\n",
       "114. 0\n",
       "115. 0\n",
       "116. 0\n",
       "117. 0\n",
       "118. 0\n",
       "119. 0\n",
       "120. 0\n",
       "121. 0\n",
       "\n",
       "\n"
      ],
      "text/plain": [
       "      [,1] [,2] [,3] [,4] [,5] [,6] [,7] [,8] [,9] [,10] [,11]\n",
       " [1,]    0    0    1    0    0    0    0    0    0     0     0\n",
       " [2,]    0    0    0    0    0    1    0    0    0     0     0\n",
       " [3,]    0    0    0    0    0    1    0    0    0     0     0\n",
       " [4,]    0    0    0    0    0    1    0    0    0     0     0\n",
       " [5,]    0    0    1    0    0    1    0    1    0     0     0\n",
       " [6,]    1    1    0    1    0    0    0    0    1     0     0\n",
       " [7,]    0    0    1    0    0    1    0    1    1     0     0\n",
       " [8,]    0    0    1    0    0    1    0    0    0     0     0\n",
       " [9,]    0    0    0    0    0    1    0    0    1     0     0\n",
       "[10,]    0    0    0    0    0    1    0    0    1     0     0\n",
       "[11,]    0    0    1    0    0    1    0    0    0     0     0"
      ]
     },
     "metadata": {},
     "output_type": "display_data"
    }
   ],
   "source": [
    "Densified_haplotypes = New_data$Simulated_haplotypes\n",
    "Densified_genotypes = New_data$Simulated_genotypes\n",
    "Densified_physical_map = New_data$Simulated_physical_map\n",
    "\n",
    "dim(Densified_haplotypes)\n",
    "dim(Densified_genotypes)\n",
    "dim(Densified_physical_map)\n",
    "\n",
    "Densified_physical_map[(dim(Densified_physical_map)[1]-10):dim(Densified_physical_map)[1],]\n",
    "Densified_haplotypes[(dim(Densified_haplotypes)[1]-10):dim(Densified_haplotypes)[1],\n",
    "                     (dim(Densified_haplotypes)[2]-10):dim(Densified_haplotypes)[2]]"
   ]
  },
  {
   "cell_type": "markdown",
   "metadata": {},
   "source": [
    "## Example 2: calling DHOEM in order to loosen an existing real marker data set"
   ]
  },
  {
   "cell_type": "code",
   "execution_count": 7,
   "metadata": {
    "ExecuteTime": {
     "end_time": "2016-10-06T11:06:34.308332",
     "start_time": "2016-10-06T09:06:18.225Z"
    },
    "collapsed": true
   },
   "outputs": [],
   "source": [
    "New_data = DHOEM('Haplotype_file.txt', 'Physical_map_file.txt', 'Physical_map_centromeres_file.txt', \n",
    "                 1000, 12, 0.01, 50, 5000 )"
   ]
  },
  {
   "cell_type": "code",
   "execution_count": 8,
   "metadata": {
    "ExecuteTime": {
     "end_time": "2016-10-06T11:06:34.413138",
     "start_time": "2016-10-06T09:06:19.961Z"
    },
    "collapsed": false
   },
   "outputs": [
    {
     "data": {
      "text/html": [
       "<ol class=list-inline>\n",
       "\t<li>684</li>\n",
       "\t<li>4924</li>\n",
       "</ol>\n"
      ],
      "text/latex": [
       "\\begin{enumerate*}\n",
       "\\item 684\n",
       "\\item 4924\n",
       "\\end{enumerate*}\n"
      ],
      "text/markdown": [
       "1. 684\n",
       "2. 4924\n",
       "\n",
       "\n"
      ],
      "text/plain": [
       "[1]  684 4924"
      ]
     },
     "metadata": {},
     "output_type": "display_data"
    },
    {
     "data": {
      "text/html": [
       "<ol class=list-inline>\n",
       "\t<li>342</li>\n",
       "\t<li>4924</li>\n",
       "</ol>\n"
      ],
      "text/latex": [
       "\\begin{enumerate*}\n",
       "\\item 342\n",
       "\\item 4924\n",
       "\\end{enumerate*}\n"
      ],
      "text/markdown": [
       "1. 342\n",
       "2. 4924\n",
       "\n",
       "\n"
      ],
      "text/plain": [
       "[1]  342 4924"
      ]
     },
     "metadata": {},
     "output_type": "display_data"
    },
    {
     "data": {
      "text/html": [
       "<ol class=list-inline>\n",
       "\t<li>4924</li>\n",
       "\t<li>3</li>\n",
       "</ol>\n"
      ],
      "text/latex": [
       "\\begin{enumerate*}\n",
       "\\item 4924\n",
       "\\item 3\n",
       "\\end{enumerate*}\n"
      ],
      "text/markdown": [
       "1. 4924\n",
       "2. 3\n",
       "\n",
       "\n"
      ],
      "text/plain": [
       "[1] 4924    3"
      ]
     },
     "metadata": {},
     "output_type": "display_data"
    },
    {
     "data": {
      "text/html": [
       "<table>\n",
       "<thead><tr><th scope=col></th><th scope=col>Repere_chrom_marq</th><th scope=col>Repere_pos_Kb</th></tr></thead>\n",
       "<tbody>\n",
       "\t<tr><td> 4914.00</td><td>   12.00</td><td>26771.75</td></tr>\n",
       "\t<tr><td> 4915.00</td><td>   12.00</td><td>26772.85</td></tr>\n",
       "\t<tr><td> 4916.00</td><td>   12.00</td><td>27029.51</td></tr>\n",
       "\t<tr><td> 4917.00</td><td>   12.00</td><td>27194.83</td></tr>\n",
       "\t<tr><td> 4918.00</td><td>   12.00</td><td>27207.65</td></tr>\n",
       "\t<tr><td> 4919.00</td><td>   12.00</td><td>27282.82</td></tr>\n",
       "\t<tr><td> 4920.0</td><td>   12.0</td><td>27343.4</td></tr>\n",
       "\t<tr><td> 4921.00</td><td>   12.00</td><td>27379.65</td></tr>\n",
       "\t<tr><td> 4922.0</td><td>   12.0</td><td>27439.3</td></tr>\n",
       "\t<tr><td> 4923.00</td><td>   12.00</td><td>27469.74</td></tr>\n",
       "\t<tr><td> 4924.00</td><td>   12.00</td><td>27504.82</td></tr>\n",
       "</tbody>\n",
       "</table>\n"
      ],
      "text/latex": [
       "\\begin{tabular}{lll}\n",
       "  & Repere\\_chrom\\_marq & Repere\\_pos\\_Kb\\\\\n",
       "\\hline\n",
       "\t  4914.00 &    12.00 & 26771.75\\\\\n",
       "\t  4915.00 &    12.00 & 26772.85\\\\\n",
       "\t  4916.00 &    12.00 & 27029.51\\\\\n",
       "\t  4917.00 &    12.00 & 27194.83\\\\\n",
       "\t  4918.00 &    12.00 & 27207.65\\\\\n",
       "\t  4919.00 &    12.00 & 27282.82\\\\\n",
       "\t  4920.0 &    12.0 & 27343.4\\\\\n",
       "\t  4921.00 &    12.00 & 27379.65\\\\\n",
       "\t  4922.0 &    12.0 & 27439.3\\\\\n",
       "\t  4923.00 &    12.00 & 27469.74\\\\\n",
       "\t  4924.00 &    12.00 & 27504.82\\\\\n",
       "\\end{tabular}\n"
      ],
      "text/markdown": [
       "1. 4914\n",
       "2. 4915\n",
       "3. 4916\n",
       "4. 4917\n",
       "5. 4918\n",
       "6. 4919\n",
       "7. 4920\n",
       "8. 4921\n",
       "9. 4922\n",
       "10. 4923\n",
       "11. 4924\n",
       "12. 12\n",
       "13. 12\n",
       "14. 12\n",
       "15. 12\n",
       "16. 12\n",
       "17. 12\n",
       "18. 12\n",
       "19. 12\n",
       "20. 12\n",
       "21. 12\n",
       "22. 12\n",
       "23. 26771.754\n",
       "24. 26772.855\n",
       "25. 27029.51\n",
       "26. 27194.835\n",
       "27. 27207.652\n",
       "28. 27282.817\n",
       "29. 27343.397\n",
       "30. 27379.645\n",
       "31. 27439.296\n",
       "32. 27469.743\n",
       "33. 27504.824\n",
       "\n",
       "\n"
      ],
      "text/plain": [
       "           Repere_chrom_marq Repere_pos_Kb\n",
       " [1,] 4914                12      26771.75\n",
       " [2,] 4915                12      26772.85\n",
       " [3,] 4916                12      27029.51\n",
       " [4,] 4917                12      27194.83\n",
       " [5,] 4918                12      27207.65\n",
       " [6,] 4919                12      27282.82\n",
       " [7,] 4920                12      27343.40\n",
       " [8,] 4921                12      27379.65\n",
       " [9,] 4922                12      27439.30\n",
       "[10,] 4923                12      27469.74\n",
       "[11,] 4924                12      27504.82"
      ]
     },
     "metadata": {},
     "output_type": "display_data"
    },
    {
     "data": {
      "text/html": [
       "<table>\n",
       "<tbody>\n",
       "\t<tr><td>0</td><td>1</td><td>0</td><td>0</td><td>0</td><td>0</td><td>0</td><td>0</td><td>0</td><td>0</td><td>0</td></tr>\n",
       "\t<tr><td>0</td><td>0</td><td>0</td><td>0</td><td>0</td><td>0</td><td>0</td><td>0</td><td>0</td><td>0</td><td>0</td></tr>\n",
       "\t<tr><td>0</td><td>0</td><td>0</td><td>0</td><td>0</td><td>0</td><td>0</td><td>0</td><td>0</td><td>0</td><td>0</td></tr>\n",
       "\t<tr><td>0</td><td>0</td><td>0</td><td>0</td><td>0</td><td>0</td><td>0</td><td>0</td><td>0</td><td>0</td><td>0</td></tr>\n",
       "\t<tr><td>0</td><td>0</td><td>0</td><td>0</td><td>0</td><td>0</td><td>0</td><td>0</td><td>0</td><td>0</td><td>0</td></tr>\n",
       "\t<tr><td>0</td><td>1</td><td>0</td><td>0</td><td>0</td><td>0</td><td>0</td><td>0</td><td>0</td><td>0</td><td>0</td></tr>\n",
       "\t<tr><td>0</td><td>1</td><td>0</td><td>0</td><td>0</td><td>0</td><td>0</td><td>0</td><td>0</td><td>0</td><td>0</td></tr>\n",
       "\t<tr><td>0</td><td>0</td><td>0</td><td>0</td><td>0</td><td>0</td><td>0</td><td>0</td><td>0</td><td>0</td><td>0</td></tr>\n",
       "\t<tr><td>0</td><td>0</td><td>0</td><td>0</td><td>0</td><td>0</td><td>0</td><td>0</td><td>0</td><td>0</td><td>0</td></tr>\n",
       "\t<tr><td>0</td><td>0</td><td>0</td><td>0</td><td>0</td><td>0</td><td>0</td><td>0</td><td>0</td><td>0</td><td>0</td></tr>\n",
       "\t<tr><td>0</td><td>0</td><td>0</td><td>0</td><td>0</td><td>0</td><td>0</td><td>0</td><td>0</td><td>0</td><td>0</td></tr>\n",
       "</tbody>\n",
       "</table>\n"
      ],
      "text/latex": [
       "\\begin{tabular}{lllllllllll}\n",
       "\t 0 & 1 & 0 & 0 & 0 & 0 & 0 & 0 & 0 & 0 & 0\\\\\n",
       "\t 0 & 0 & 0 & 0 & 0 & 0 & 0 & 0 & 0 & 0 & 0\\\\\n",
       "\t 0 & 0 & 0 & 0 & 0 & 0 & 0 & 0 & 0 & 0 & 0\\\\\n",
       "\t 0 & 0 & 0 & 0 & 0 & 0 & 0 & 0 & 0 & 0 & 0\\\\\n",
       "\t 0 & 0 & 0 & 0 & 0 & 0 & 0 & 0 & 0 & 0 & 0\\\\\n",
       "\t 0 & 1 & 0 & 0 & 0 & 0 & 0 & 0 & 0 & 0 & 0\\\\\n",
       "\t 0 & 1 & 0 & 0 & 0 & 0 & 0 & 0 & 0 & 0 & 0\\\\\n",
       "\t 0 & 0 & 0 & 0 & 0 & 0 & 0 & 0 & 0 & 0 & 0\\\\\n",
       "\t 0 & 0 & 0 & 0 & 0 & 0 & 0 & 0 & 0 & 0 & 0\\\\\n",
       "\t 0 & 0 & 0 & 0 & 0 & 0 & 0 & 0 & 0 & 0 & 0\\\\\n",
       "\t 0 & 0 & 0 & 0 & 0 & 0 & 0 & 0 & 0 & 0 & 0\\\\\n",
       "\\end{tabular}\n"
      ],
      "text/markdown": [
       "1. 0\n",
       "2. 0\n",
       "3. 0\n",
       "4. 0\n",
       "5. 0\n",
       "6. 0\n",
       "7. 0\n",
       "8. 0\n",
       "9. 0\n",
       "10. 0\n",
       "11. 0\n",
       "12. 1\n",
       "13. 0\n",
       "14. 0\n",
       "15. 0\n",
       "16. 0\n",
       "17. 1\n",
       "18. 1\n",
       "19. 0\n",
       "20. 0\n",
       "21. 0\n",
       "22. 0\n",
       "23. 0\n",
       "24. 0\n",
       "25. 0\n",
       "26. 0\n",
       "27. 0\n",
       "28. 0\n",
       "29. 0\n",
       "30. 0\n",
       "31. 0\n",
       "32. 0\n",
       "33. 0\n",
       "34. 0\n",
       "35. 0\n",
       "36. 0\n",
       "37. 0\n",
       "38. 0\n",
       "39. 0\n",
       "40. 0\n",
       "41. 0\n",
       "42. 0\n",
       "43. 0\n",
       "44. 0\n",
       "45. 0\n",
       "46. 0\n",
       "47. 0\n",
       "48. 0\n",
       "49. 0\n",
       "50. 0\n",
       "51. 0\n",
       "52. 0\n",
       "53. 0\n",
       "54. 0\n",
       "55. 0\n",
       "56. 0\n",
       "57. 0\n",
       "58. 0\n",
       "59. 0\n",
       "60. 0\n",
       "61. 0\n",
       "62. 0\n",
       "63. 0\n",
       "64. 0\n",
       "65. 0\n",
       "66. 0\n",
       "67. 0\n",
       "68. 0\n",
       "69. 0\n",
       "70. 0\n",
       "71. 0\n",
       "72. 0\n",
       "73. 0\n",
       "74. 0\n",
       "75. 0\n",
       "76. 0\n",
       "77. 0\n",
       "78. 0\n",
       "79. 0\n",
       "80. 0\n",
       "81. 0\n",
       "82. 0\n",
       "83. 0\n",
       "84. 0\n",
       "85. 0\n",
       "86. 0\n",
       "87. 0\n",
       "88. 0\n",
       "89. 0\n",
       "90. 0\n",
       "91. 0\n",
       "92. 0\n",
       "93. 0\n",
       "94. 0\n",
       "95. 0\n",
       "96. 0\n",
       "97. 0\n",
       "98. 0\n",
       "99. 0\n",
       "100. 0\n",
       "101. 0\n",
       "102. 0\n",
       "103. 0\n",
       "104. 0\n",
       "105. 0\n",
       "106. 0\n",
       "107. 0\n",
       "108. 0\n",
       "109. 0\n",
       "110. 0\n",
       "111. 0\n",
       "112. 0\n",
       "113. 0\n",
       "114. 0\n",
       "115. 0\n",
       "116. 0\n",
       "117. 0\n",
       "118. 0\n",
       "119. 0\n",
       "120. 0\n",
       "121. 0\n",
       "\n",
       "\n"
      ],
      "text/plain": [
       "      [,1] [,2] [,3] [,4] [,5] [,6] [,7] [,8] [,9] [,10] [,11]\n",
       " [1,]    0    1    0    0    0    0    0    0    0     0     0\n",
       " [2,]    0    0    0    0    0    0    0    0    0     0     0\n",
       " [3,]    0    0    0    0    0    0    0    0    0     0     0\n",
       " [4,]    0    0    0    0    0    0    0    0    0     0     0\n",
       " [5,]    0    0    0    0    0    0    0    0    0     0     0\n",
       " [6,]    0    1    0    0    0    0    0    0    0     0     0\n",
       " [7,]    0    1    0    0    0    0    0    0    0     0     0\n",
       " [8,]    0    0    0    0    0    0    0    0    0     0     0\n",
       " [9,]    0    0    0    0    0    0    0    0    0     0     0\n",
       "[10,]    0    0    0    0    0    0    0    0    0     0     0\n",
       "[11,]    0    0    0    0    0    0    0    0    0     0     0"
      ]
     },
     "metadata": {},
     "output_type": "display_data"
    }
   ],
   "source": [
    "Loosened_haplotypes = New_data$Simulated_haplotypes\n",
    "Loosened_genotypes = New_data$Simulated_genotypes\n",
    "Loosened_physical_map = New_data$Simulated_physical_map\n",
    "\n",
    "dim(Loosened_haplotypes)\n",
    "dim(Loosened_genotypes)\n",
    "dim(Loosened_physical_map)\n",
    "\n",
    "Loosened_physical_map[(dim(Loosened_physical_map)[1]-10):dim(Loosened_physical_map)[1],]\n",
    "Loosened_haplotypes[(dim(Loosened_haplotypes)[1]-10):dim(Loosened_haplotypes)[1],\n",
    "                    (dim(Loosened_haplotypes)[2]-10):dim(Loosened_haplotypes)[2]]"
   ]
  },
  {
   "cell_type": "markdown",
   "metadata": {},
   "source": [
    "## Example 3: ERROR cases (densification and loosening cases) for the paramater Nb_more_less_SNP_per_chromo_per_run\n",
    "\n",
    "Note: if all chromosomes have at least 100 SNP, small values like 20 and 50 for  Nb_more_less_SNP_per_chromo_per_run  will be ok "
   ]
  },
  {
   "cell_type": "code",
   "execution_count": 9,
   "metadata": {
    "ExecuteTime": {
     "end_time": "2016-10-06T11:16:31.375088",
     "start_time": "2016-10-06T09:16:24.479Z"
    },
    "collapsed": false
   },
   "outputs": [
    {
     "ename": "ERROR",
     "evalue": "Error in DHOEM(\"Haplotype_file.txt\", \"Physical_map_file.txt\", \"Physical_map_centromeres_file.txt\", : \n\n DHOEM error message: \n\n Impossible to densify chromosome 1 which has 1007 potential SNP ( outside the region involving the centromere) for anchoring 2000 new simulated SNP.\n\n Please, decrease the parameter Nb_more_less_SNP_per_chromo_per_run \n\n\n",
     "output_type": "error",
     "traceback": [
      "Error in DHOEM(\"Haplotype_file.txt\", \"Physical_map_file.txt\", \"Physical_map_centromeres_file.txt\", : \n\n DHOEM error message: \n\n Impossible to densify chromosome 1 which has 1007 potential SNP ( outside the region involving the centromere) for anchoring 2000 new simulated SNP.\n\n Please, decrease the parameter Nb_more_less_SNP_per_chromo_per_run \n\n\nTraceback:\n",
      "1. DHOEM(\"Haplotype_file.txt\", \"Physical_map_file.txt\", \"Physical_map_centromeres_file.txt\", \n .     1000, 12, 0.01, 2000, 20000)",
      "2. stop(\"\\n\\n DHOEM error message: \\n\\n Impossible to densify chromosome \", \n .     Chromo_k, \" which has \", length(SNP_hors_region_centromere), \n .     \" potential SNP ( outside the region involving the centromere) for anchoring \", \n .     Nb_more_less_SNP_per_chromo_per_run, \" new simulated SNP.\\n\\n Please, decrease the parameter Nb_more_less_SNP_per_chromo_per_run \\n\\n\")"
     ]
    }
   ],
   "source": [
    "New_data = DHOEM('Haplotype_file.txt', 'Physical_map_file.txt', 'Physical_map_centromeres_file.txt', \n",
    "                 1000, 12, 0.01, 2000, 20000 )"
   ]
  },
  {
   "cell_type": "code",
   "execution_count": 11,
   "metadata": {
    "ExecuteTime": {
     "end_time": "2016-10-06T15:15:26.393010",
     "start_time": "2016-10-06T13:15:19.379Z"
    },
    "collapsed": false
   },
   "outputs": [
    {
     "ename": "ERROR",
     "evalue": "Error in DHOEM(\"Haplotype_file.txt\", \"Physical_map_file.txt\", \"Physical_map_centromeres_file.txt\", : \n\n DHOEM error message: \n\n Impossible to loosen the marker density of chromosome 1, which has only 1026 SNP, in attempting to suppress 2000 SNP.\n\n Please, decrease the parameter Nb_more_less_SNP_per_chromo_per_run \n\n\n",
     "output_type": "error",
     "traceback": [
      "Error in DHOEM(\"Haplotype_file.txt\", \"Physical_map_file.txt\", \"Physical_map_centromeres_file.txt\", : \n\n DHOEM error message: \n\n Impossible to loosen the marker density of chromosome 1, which has only 1026 SNP, in attempting to suppress 2000 SNP.\n\n Please, decrease the parameter Nb_more_less_SNP_per_chromo_per_run \n\n\nTraceback:\n",
      "1. DHOEM(\"Haplotype_file.txt\", \"Physical_map_file.txt\", \"Physical_map_centromeres_file.txt\", \n .     1000, 12, 0.01, 2000, 1000)",
      "2. stop(\"\\n\\n DHOEM error message: \\n\\n Impossible to loosen the marker density of chromosome \", \n .     Chromo_k, \", which has only \", length(Indices_chromosome_k), \n .     \" SNP, in attempting to suppress \", Nb_more_less_SNP_per_chromo_per_run, \n .     \" SNP.\\n\\n Please, decrease the parameter Nb_more_less_SNP_per_chromo_per_run \\n\\n\")"
     ]
    }
   ],
   "source": [
    "New_data = DHOEM('Haplotype_file.txt', 'Physical_map_file.txt', 'Physical_map_centromeres_file.txt', \n",
    "                 1000, 12, 0.01, 2000, 1000 )"
   ]
  }
 ],
 "metadata": {
  "anaconda-cloud": {},
  "kernelspec": {
   "display_name": "R",
   "language": "R",
   "name": "ir"
  },
  "language_info": {
   "codemirror_mode": "r",
   "file_extension": ".r",
   "mimetype": "text/x-r-source",
   "name": "R",
   "pygments_lexer": "r",
   "version": "3.3.1"
  }
 },
 "nbformat": 4,
 "nbformat_minor": 1
}
